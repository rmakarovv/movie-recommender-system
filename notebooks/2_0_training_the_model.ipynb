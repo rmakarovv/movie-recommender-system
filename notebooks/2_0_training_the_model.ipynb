{
  "cells": [
    {
      "cell_type": "markdown",
      "metadata": {
        "id": "ktxdLosxtgZd"
      },
      "source": [
        "# Movie Recommender System\n",
        "\n",
        "    author: Roman Makarov\n",
        "    e-mail: o.makarov@innopolis.university"
      ]
    },
    {
      "cell_type": "markdown",
      "metadata": {
        "id": "BoRvTQ1vtwcq"
      },
      "source": [
        "## Retrieving the data\n",
        "\n",
        "Downloading the dataset from the website"
      ]
    },
    {
      "cell_type": "code",
      "execution_count": 1,
      "metadata": {
        "colab": {
          "base_uri": "https://localhost:8080/"
        },
        "id": "4p_Pj_D7t3Rk",
        "outputId": "42ee01b1-f476-4b2a-f4a3-5e9e187defee"
      },
      "outputs": [
        {
          "name": "stdout",
          "output_type": "stream",
          "text": [
            "--2023-12-02 08:06:07--  https://files.grouplens.org/datasets/movielens/ml-100k.zip\n",
            "Resolving files.grouplens.org (files.grouplens.org)... 128.101.65.152\n",
            "Connecting to files.grouplens.org (files.grouplens.org)|128.101.65.152|:443... connected.\n",
            "HTTP request sent, awaiting response... 200 OK\n",
            "Length: 4924029 (4.7M) [application/zip]\n",
            "Saving to: ‘ml-100k.zip’\n",
            "\n",
            "ml-100k.zip         100%[===================>]   4.70M  27.7MB/s    in 0.2s    \n",
            "\n",
            "2023-12-02 08:06:08 (27.7 MB/s) - ‘ml-100k.zip’ saved [4924029/4924029]\n",
            "\n"
          ]
        }
      ],
      "source": [
        "!wget https://files.grouplens.org/datasets/movielens/ml-100k.zip"
      ]
    },
    {
      "cell_type": "markdown",
      "metadata": {
        "id": "9saAipTquoT5"
      },
      "source": [
        "Unzipping the dataset"
      ]
    },
    {
      "cell_type": "code",
      "execution_count": 2,
      "metadata": {
        "id": "zWF5zGGopNU3"
      },
      "outputs": [],
      "source": [
        "%%capture\n",
        "!unzip ml-100k.zip"
      ]
    },
    {
      "cell_type": "markdown",
      "metadata": {
        "id": "vXcJZycyurU2"
      },
      "source": [
        "## Installing required libraries and importing modules"
      ]
    },
    {
      "cell_type": "code",
      "execution_count": 3,
      "metadata": {
        "id": "HHKI1XE3r0FJ"
      },
      "outputs": [],
      "source": [
        "%%capture\n",
        "!pip install torch_geometric"
      ]
    },
    {
      "cell_type": "code",
      "execution_count": 4,
      "metadata": {
        "id": "Y9fonQcxt3do"
      },
      "outputs": [],
      "source": [
        "import random\n",
        "import time\n",
        "\n",
        "import matplotlib.pyplot as plt\n",
        "import networkx as nx\n",
        "import numpy as np\n",
        "import pandas as pd\n",
        "pd.set_option('display.max_colwidth', None)\n",
        "\n",
        "import torch\n",
        "import torch.nn as nn\n",
        "import torch.nn.functional as F\n",
        "import torch.optim as optim\n",
        "import torch_geometric\n",
        "from torch_geometric.nn.conv import MessagePassing\n",
        "from torch_geometric.utils import degree\n",
        "\n",
        "from tqdm.notebook import tqdm\n",
        "from sklearn import preprocessing as pp\n",
        "from sklearn.model_selection import train_test_split\n",
        "import scipy.sparse as sp"
      ]
    },
    {
      "cell_type": "code",
      "execution_count": 5,
      "metadata": {
        "id": "8AmkupCK1LjA"
      },
      "outputs": [],
      "source": [
        "import warnings\n",
        "warnings.filterwarnings(\"ignore\")"
      ]
    },
    {
      "cell_type": "markdown",
      "metadata": {
        "id": "647RVDjVyxHL"
      },
      "source": [
        "## Set up reproducibility settings"
      ]
    },
    {
      "cell_type": "code",
      "execution_count": 6,
      "metadata": {
        "colab": {
          "base_uri": "https://localhost:8080/"
        },
        "id": "FtYXIkT2ywTA",
        "outputId": "89af1707-1b65-4517-9139-ed76bd213351"
      },
      "outputs": [
        {
          "data": {
            "text/plain": [
              "<torch._C.Generator at 0x7ebe0f2f7f50>"
            ]
          },
          "execution_count": 6,
          "metadata": {},
          "output_type": "execute_result"
        }
      ],
      "source": [
        "SEED = 42\n",
        "\n",
        "random.seed(SEED)\n",
        "np.random.seed(SEED)\n",
        "torch.manual_seed(SEED)"
      ]
    },
    {
      "cell_type": "markdown",
      "metadata": {
        "id": "FPktCFL7u1J-"
      },
      "source": [
        "## Defining device for faster training"
      ]
    },
    {
      "cell_type": "code",
      "execution_count": 7,
      "metadata": {
        "colab": {
          "base_uri": "https://localhost:8080/"
        },
        "id": "b4pKT5jUt3pz",
        "outputId": "56e1fa50-c6ff-4f10-bc6a-9db5c833d294"
      },
      "outputs": [
        {
          "data": {
            "text/plain": [
              "device(type='cuda', index=0)"
            ]
          },
          "execution_count": 7,
          "metadata": {},
          "output_type": "execute_result"
        }
      ],
      "source": [
        "device = torch.device(\"cuda:0\" if torch.cuda.is_available() else \"cpu\")\n",
        "device"
      ]
    },
    {
      "cell_type": "markdown",
      "metadata": {
        "id": "eYnQc9UH07Fg"
      },
      "source": [
        "## Dataset and Preprocessing\n",
        "\n",
        "Reading the dataset"
      ]
    },
    {
      "cell_type": "code",
      "execution_count": 8,
      "metadata": {
        "colab": {
          "base_uri": "https://localhost:8080/",
          "height": 206
        },
        "id": "D13_omigmeOi",
        "outputId": "5a0aadb7-c0c7-428a-98fe-e6327d682f9c"
      },
      "outputs": [
        {
          "data": {
            "text/html": [
              "\n",
              "  <div id=\"df-c50e53f4-e170-4a37-b8e7-cf4e21a16ecc\" class=\"colab-df-container\">\n",
              "    <div>\n",
              "<style scoped>\n",
              "    .dataframe tbody tr th:only-of-type {\n",
              "        vertical-align: middle;\n",
              "    }\n",
              "\n",
              "    .dataframe tbody tr th {\n",
              "        vertical-align: top;\n",
              "    }\n",
              "\n",
              "    .dataframe thead th {\n",
              "        text-align: right;\n",
              "    }\n",
              "</style>\n",
              "<table border=\"1\" class=\"dataframe\">\n",
              "  <thead>\n",
              "    <tr style=\"text-align: right;\">\n",
              "      <th></th>\n",
              "      <th>user_id</th>\n",
              "      <th>item_id</th>\n",
              "      <th>rating</th>\n",
              "      <th>timestamp</th>\n",
              "    </tr>\n",
              "  </thead>\n",
              "  <tbody>\n",
              "    <tr>\n",
              "      <th>0</th>\n",
              "      <td>196</td>\n",
              "      <td>242</td>\n",
              "      <td>3</td>\n",
              "      <td>881250949</td>\n",
              "    </tr>\n",
              "    <tr>\n",
              "      <th>1</th>\n",
              "      <td>186</td>\n",
              "      <td>302</td>\n",
              "      <td>3</td>\n",
              "      <td>891717742</td>\n",
              "    </tr>\n",
              "    <tr>\n",
              "      <th>2</th>\n",
              "      <td>22</td>\n",
              "      <td>377</td>\n",
              "      <td>1</td>\n",
              "      <td>878887116</td>\n",
              "    </tr>\n",
              "    <tr>\n",
              "      <th>3</th>\n",
              "      <td>244</td>\n",
              "      <td>51</td>\n",
              "      <td>2</td>\n",
              "      <td>880606923</td>\n",
              "    </tr>\n",
              "    <tr>\n",
              "      <th>4</th>\n",
              "      <td>166</td>\n",
              "      <td>346</td>\n",
              "      <td>1</td>\n",
              "      <td>886397596</td>\n",
              "    </tr>\n",
              "  </tbody>\n",
              "</table>\n",
              "</div>\n",
              "    <div class=\"colab-df-buttons\">\n",
              "\n",
              "  <div class=\"colab-df-container\">\n",
              "    <button class=\"colab-df-convert\" onclick=\"convertToInteractive('df-c50e53f4-e170-4a37-b8e7-cf4e21a16ecc')\"\n",
              "            title=\"Convert this dataframe to an interactive table.\"\n",
              "            style=\"display:none;\">\n",
              "\n",
              "  <svg xmlns=\"http://www.w3.org/2000/svg\" height=\"24px\" viewBox=\"0 -960 960 960\">\n",
              "    <path d=\"M120-120v-720h720v720H120Zm60-500h600v-160H180v160Zm220 220h160v-160H400v160Zm0 220h160v-160H400v160ZM180-400h160v-160H180v160Zm440 0h160v-160H620v160ZM180-180h160v-160H180v160Zm440 0h160v-160H620v160Z\"/>\n",
              "  </svg>\n",
              "    </button>\n",
              "\n",
              "  <style>\n",
              "    .colab-df-container {\n",
              "      display:flex;\n",
              "      gap: 12px;\n",
              "    }\n",
              "\n",
              "    .colab-df-convert {\n",
              "      background-color: #E8F0FE;\n",
              "      border: none;\n",
              "      border-radius: 50%;\n",
              "      cursor: pointer;\n",
              "      display: none;\n",
              "      fill: #1967D2;\n",
              "      height: 32px;\n",
              "      padding: 0 0 0 0;\n",
              "      width: 32px;\n",
              "    }\n",
              "\n",
              "    .colab-df-convert:hover {\n",
              "      background-color: #E2EBFA;\n",
              "      box-shadow: 0px 1px 2px rgba(60, 64, 67, 0.3), 0px 1px 3px 1px rgba(60, 64, 67, 0.15);\n",
              "      fill: #174EA6;\n",
              "    }\n",
              "\n",
              "    .colab-df-buttons div {\n",
              "      margin-bottom: 4px;\n",
              "    }\n",
              "\n",
              "    [theme=dark] .colab-df-convert {\n",
              "      background-color: #3B4455;\n",
              "      fill: #D2E3FC;\n",
              "    }\n",
              "\n",
              "    [theme=dark] .colab-df-convert:hover {\n",
              "      background-color: #434B5C;\n",
              "      box-shadow: 0px 1px 3px 1px rgba(0, 0, 0, 0.15);\n",
              "      filter: drop-shadow(0px 1px 2px rgba(0, 0, 0, 0.3));\n",
              "      fill: #FFFFFF;\n",
              "    }\n",
              "  </style>\n",
              "\n",
              "    <script>\n",
              "      const buttonEl =\n",
              "        document.querySelector('#df-c50e53f4-e170-4a37-b8e7-cf4e21a16ecc button.colab-df-convert');\n",
              "      buttonEl.style.display =\n",
              "        google.colab.kernel.accessAllowed ? 'block' : 'none';\n",
              "\n",
              "      async function convertToInteractive(key) {\n",
              "        const element = document.querySelector('#df-c50e53f4-e170-4a37-b8e7-cf4e21a16ecc');\n",
              "        const dataTable =\n",
              "          await google.colab.kernel.invokeFunction('convertToInteractive',\n",
              "                                                    [key], {});\n",
              "        if (!dataTable) return;\n",
              "\n",
              "        const docLinkHtml = 'Like what you see? Visit the ' +\n",
              "          '<a target=\"_blank\" href=https://colab.research.google.com/notebooks/data_table.ipynb>data table notebook</a>'\n",
              "          + ' to learn more about interactive tables.';\n",
              "        element.innerHTML = '';\n",
              "        dataTable['output_type'] = 'display_data';\n",
              "        await google.colab.output.renderOutput(dataTable, element);\n",
              "        const docLink = document.createElement('div');\n",
              "        docLink.innerHTML = docLinkHtml;\n",
              "        element.appendChild(docLink);\n",
              "      }\n",
              "    </script>\n",
              "  </div>\n",
              "\n",
              "\n",
              "<div id=\"df-54a2f50f-2cb7-495c-90eb-6dd8bd030be2\">\n",
              "  <button class=\"colab-df-quickchart\" onclick=\"quickchart('df-54a2f50f-2cb7-495c-90eb-6dd8bd030be2')\"\n",
              "            title=\"Suggest charts\"\n",
              "            style=\"display:none;\">\n",
              "\n",
              "<svg xmlns=\"http://www.w3.org/2000/svg\" height=\"24px\"viewBox=\"0 0 24 24\"\n",
              "     width=\"24px\">\n",
              "    <g>\n",
              "        <path d=\"M19 3H5c-1.1 0-2 .9-2 2v14c0 1.1.9 2 2 2h14c1.1 0 2-.9 2-2V5c0-1.1-.9-2-2-2zM9 17H7v-7h2v7zm4 0h-2V7h2v10zm4 0h-2v-4h2v4z\"/>\n",
              "    </g>\n",
              "</svg>\n",
              "  </button>\n",
              "\n",
              "<style>\n",
              "  .colab-df-quickchart {\n",
              "      --bg-color: #E8F0FE;\n",
              "      --fill-color: #1967D2;\n",
              "      --hover-bg-color: #E2EBFA;\n",
              "      --hover-fill-color: #174EA6;\n",
              "      --disabled-fill-color: #AAA;\n",
              "      --disabled-bg-color: #DDD;\n",
              "  }\n",
              "\n",
              "  [theme=dark] .colab-df-quickchart {\n",
              "      --bg-color: #3B4455;\n",
              "      --fill-color: #D2E3FC;\n",
              "      --hover-bg-color: #434B5C;\n",
              "      --hover-fill-color: #FFFFFF;\n",
              "      --disabled-bg-color: #3B4455;\n",
              "      --disabled-fill-color: #666;\n",
              "  }\n",
              "\n",
              "  .colab-df-quickchart {\n",
              "    background-color: var(--bg-color);\n",
              "    border: none;\n",
              "    border-radius: 50%;\n",
              "    cursor: pointer;\n",
              "    display: none;\n",
              "    fill: var(--fill-color);\n",
              "    height: 32px;\n",
              "    padding: 0;\n",
              "    width: 32px;\n",
              "  }\n",
              "\n",
              "  .colab-df-quickchart:hover {\n",
              "    background-color: var(--hover-bg-color);\n",
              "    box-shadow: 0 1px 2px rgba(60, 64, 67, 0.3), 0 1px 3px 1px rgba(60, 64, 67, 0.15);\n",
              "    fill: var(--button-hover-fill-color);\n",
              "  }\n",
              "\n",
              "  .colab-df-quickchart-complete:disabled,\n",
              "  .colab-df-quickchart-complete:disabled:hover {\n",
              "    background-color: var(--disabled-bg-color);\n",
              "    fill: var(--disabled-fill-color);\n",
              "    box-shadow: none;\n",
              "  }\n",
              "\n",
              "  .colab-df-spinner {\n",
              "    border: 2px solid var(--fill-color);\n",
              "    border-color: transparent;\n",
              "    border-bottom-color: var(--fill-color);\n",
              "    animation:\n",
              "      spin 1s steps(1) infinite;\n",
              "  }\n",
              "\n",
              "  @keyframes spin {\n",
              "    0% {\n",
              "      border-color: transparent;\n",
              "      border-bottom-color: var(--fill-color);\n",
              "      border-left-color: var(--fill-color);\n",
              "    }\n",
              "    20% {\n",
              "      border-color: transparent;\n",
              "      border-left-color: var(--fill-color);\n",
              "      border-top-color: var(--fill-color);\n",
              "    }\n",
              "    30% {\n",
              "      border-color: transparent;\n",
              "      border-left-color: var(--fill-color);\n",
              "      border-top-color: var(--fill-color);\n",
              "      border-right-color: var(--fill-color);\n",
              "    }\n",
              "    40% {\n",
              "      border-color: transparent;\n",
              "      border-right-color: var(--fill-color);\n",
              "      border-top-color: var(--fill-color);\n",
              "    }\n",
              "    60% {\n",
              "      border-color: transparent;\n",
              "      border-right-color: var(--fill-color);\n",
              "    }\n",
              "    80% {\n",
              "      border-color: transparent;\n",
              "      border-right-color: var(--fill-color);\n",
              "      border-bottom-color: var(--fill-color);\n",
              "    }\n",
              "    90% {\n",
              "      border-color: transparent;\n",
              "      border-bottom-color: var(--fill-color);\n",
              "    }\n",
              "  }\n",
              "</style>\n",
              "\n",
              "  <script>\n",
              "    async function quickchart(key) {\n",
              "      const quickchartButtonEl =\n",
              "        document.querySelector('#' + key + ' button');\n",
              "      quickchartButtonEl.disabled = true;  // To prevent multiple clicks.\n",
              "      quickchartButtonEl.classList.add('colab-df-spinner');\n",
              "      try {\n",
              "        const charts = await google.colab.kernel.invokeFunction(\n",
              "            'suggestCharts', [key], {});\n",
              "      } catch (error) {\n",
              "        console.error('Error during call to suggestCharts:', error);\n",
              "      }\n",
              "      quickchartButtonEl.classList.remove('colab-df-spinner');\n",
              "      quickchartButtonEl.classList.add('colab-df-quickchart-complete');\n",
              "    }\n",
              "    (() => {\n",
              "      let quickchartButtonEl =\n",
              "        document.querySelector('#df-54a2f50f-2cb7-495c-90eb-6dd8bd030be2 button');\n",
              "      quickchartButtonEl.style.display =\n",
              "        google.colab.kernel.accessAllowed ? 'block' : 'none';\n",
              "    })();\n",
              "  </script>\n",
              "</div>\n",
              "    </div>\n",
              "  </div>\n"
            ],
            "text/plain": [
              "   user_id  item_id  rating  timestamp\n",
              "0      196      242       3  881250949\n",
              "1      186      302       3  891717742\n",
              "2       22      377       1  878887116\n",
              "3      244       51       2  880606923\n",
              "4      166      346       1  886397596"
            ]
          },
          "execution_count": 8,
          "metadata": {},
          "output_type": "execute_result"
        }
      ],
      "source": [
        "columns_name=['user_id','item_id','rating','timestamp']\n",
        "df = pd.read_csv(\"ml-100k/u.data\", sep=\"\\t\", names=columns_name)\n",
        "df.head()"
      ]
    },
    {
      "cell_type": "markdown",
      "metadata": {
        "id": "BzX3-JClrcCx"
      },
      "source": [
        "Using only high ratings as interactions in order to predict which movies a user will enjoy watching next."
      ]
    },
    {
      "cell_type": "code",
      "execution_count": 9,
      "metadata": {
        "colab": {
          "base_uri": "https://localhost:8080/"
        },
        "id": "j0vvQB9Kmea7",
        "outputId": "36a4abec-58b0-40c0-e16c-f5b711f4c88f"
      },
      "outputs": [
        {
          "name": "stdout",
          "output_type": "stream",
          "text": [
            "82520\n"
          ]
        }
      ],
      "source": [
        "df = df[df['rating']>=3]\n",
        "print(len(df))"
      ]
    },
    {
      "cell_type": "markdown",
      "metadata": {
        "id": "AxTE6H53vfyp"
      },
      "source": [
        "Splitting the dataset to train and test"
      ]
    },
    {
      "cell_type": "code",
      "execution_count": 10,
      "metadata": {
        "id": "SWwvL8JOmrT4"
      },
      "outputs": [],
      "source": [
        "train, test = train_test_split(df.values, test_size=0.2, random_state=SEED)\n",
        "train_df = pd.DataFrame(train, columns=df.columns)\n",
        "test_df = pd.DataFrame(test, columns=df.columns)"
      ]
    },
    {
      "cell_type": "markdown",
      "metadata": {
        "id": "g0bHVYGjrTcL"
      },
      "source": [
        "Relabeling users and movies ids to ensure they are continuous"
      ]
    },
    {
      "cell_type": "code",
      "execution_count": 11,
      "metadata": {
        "id": "QXi90opJmriQ"
      },
      "outputs": [],
      "source": [
        "le_user = pp.LabelEncoder()\n",
        "le_item = pp.LabelEncoder()\n",
        "train_df['user_id_idx'] = le_user.fit_transform(train_df['user_id'].values)\n",
        "train_df['item_id_idx'] = le_item.fit_transform(train_df['item_id'].values)"
      ]
    },
    {
      "cell_type": "markdown",
      "metadata": {
        "id": "f03Tg379vuZ2"
      },
      "source": [
        "Leaving only those ids that are present in the train set and transforming them in the same way"
      ]
    },
    {
      "cell_type": "code",
      "execution_count": 12,
      "metadata": {
        "id": "KtRmOkoDmem_"
      },
      "outputs": [],
      "source": [
        "train_user_ids = train_df['user_id'].unique()\n",
        "train_item_ids = train_df['item_id'].unique()\n",
        "\n",
        "test_df = test_df[\n",
        "    (test_df['user_id'].isin(train_user_ids)) & \\\n",
        "    (test_df['item_id'].isin(train_item_ids))\n",
        "]\n",
        "\n",
        "test_df['user_id_idx'] = le_user.transform(test_df['user_id'].values)\n",
        "test_df['item_id_idx'] = le_item.transform(test_df['item_id'].values)"
      ]
    },
    {
      "cell_type": "markdown",
      "metadata": {
        "id": "UTCbndnGv4IZ"
      },
      "source": [
        "Printing resulting statistics"
      ]
    },
    {
      "cell_type": "code",
      "execution_count": 13,
      "metadata": {
        "colab": {
          "base_uri": "https://localhost:8080/"
        },
        "id": "-WOF-cOAm5iO",
        "outputId": "fcd09e6f-0632-4dbb-f5f6-50f1a926732a"
      },
      "outputs": [
        {
          "name": "stdout",
          "output_type": "stream",
          "text": [
            "Number of Unique Users :  943\n",
            "Number of unique Items :  1547\n"
          ]
        }
      ],
      "source": [
        "n_users = train_df['user_id_idx'].nunique()\n",
        "n_items = train_df['item_id_idx'].nunique()\n",
        "print(\"Number of Unique Users : \", n_users)\n",
        "print(\"Number of unique Items : \", n_items)"
      ]
    },
    {
      "cell_type": "markdown",
      "metadata": {
        "id": "XNoblY5kxlv_"
      },
      "source": [
        "### Minibatch Sampling\n",
        "\n",
        "Creating and testing a function for minibatch sampling"
      ]
    },
    {
      "cell_type": "code",
      "execution_count": 14,
      "metadata": {
        "colab": {
          "base_uri": "https://localhost:8080/"
        },
        "id": "NQRGy-CJnOkg",
        "outputId": "97984327-b58b-4d8c-97ee-4d5bcd93669d"
      },
      "outputs": [
        {
          "data": {
            "text/plain": [
              "(tensor([ 25,  89, 104, 114, 142, 228, 250, 281, 558, 604, 654, 692, 754, 758,\n",
              "         759, 913], device='cuda:0'),\n",
              " tensor([ 943, 1163, 1255, 1125, 1963, 1187, 1346, 1211, 1524, 1298, 2090, 1595,\n",
              "         1243, 1123, 1053, 1322], device='cuda:0'),\n",
              " tensor([2149, 1512,  956, 1269, 2372, 1808, 1639, 1512, 1261, 1383, 1632, 1132,\n",
              "         1721, 1141, 1678, 1647], device='cuda:0'))"
            ]
          },
          "execution_count": 14,
          "metadata": {},
          "output_type": "execute_result"
        }
      ],
      "source": [
        "def data_loader(data, batch_size, n_usr, n_itm):\n",
        "\n",
        "    def sample_neg(x):\n",
        "        while True:\n",
        "            neg_id = random.randint(0, n_itm - 1)\n",
        "            if neg_id not in x:\n",
        "                return neg_id\n",
        "\n",
        "    interected_items_df = data.groupby('user_id_idx')['item_id_idx'].apply(list).reset_index()\n",
        "    indices = [x for x in range(n_usr)]\n",
        "\n",
        "    if n_usr < batch_size:\n",
        "        users = [random.choice(indices) for _ in range(batch_size)]\n",
        "    else:\n",
        "        users = random.sample(indices, batch_size)\n",
        "\n",
        "    users.sort()\n",
        "    users_df = pd.DataFrame(users, columns = ['users'])\n",
        "\n",
        "    interected_items_df = pd.merge(interected_items_df, users_df, how = 'right', left_on = 'user_id_idx', right_on = 'users')\n",
        "    pos_items = interected_items_df['item_id_idx'].apply(lambda x : random.choice(x)).values\n",
        "    neg_items = interected_items_df['item_id_idx'].apply(lambda x: sample_neg(x)).values\n",
        "\n",
        "    return (\n",
        "        torch.LongTensor(list(users)).to(device),\n",
        "        torch.LongTensor(list(pos_items)).to(device) + n_usr,\n",
        "        torch.LongTensor(list(neg_items)).to(device) + n_usr\n",
        "    )\n",
        "\n",
        "data_loader(train_df, 16, n_users, n_items)"
      ]
    },
    {
      "cell_type": "markdown",
      "metadata": {
        "id": "vjHZg1Eu-MKs"
      },
      "source": [
        "## Edge Index\n",
        "\n",
        "Including each edge twice to simulate undirected graph and changing the distribution of items ids so that each id is unique"
      ]
    },
    {
      "cell_type": "code",
      "execution_count": 15,
      "metadata": {
        "colab": {
          "base_uri": "https://localhost:8080/"
        },
        "id": "O3BkGyV9pkce",
        "outputId": "a4e4b9f4-edc4-476e-a596-4c5ad26954cd"
      },
      "outputs": [
        {
          "data": {
            "text/plain": [
              "tensor([[ 108,  435,  863,  ..., 1242, 1380, 1542],\n",
              "        [1099, 1490, 1499,  ...,  811,  187,  298]], device='cuda:0')"
            ]
          },
          "execution_count": 15,
          "metadata": {},
          "output_type": "execute_result"
        }
      ],
      "source": [
        "u_t = torch.LongTensor(train_df.user_id_idx)\n",
        "i_t = torch.LongTensor(train_df.item_id_idx) + n_users\n",
        "\n",
        "train_edge_index = torch.stack((\n",
        "    torch.cat([u_t, i_t]),\n",
        "    torch.cat([i_t, u_t])\n",
        ")).to(device)\n",
        "\n",
        "train_edge_index"
      ]
    },
    {
      "cell_type": "markdown",
      "metadata": {
        "id": "_RxDUYJ2sXJe"
      },
      "source": [
        "Let's confirm that the first and last edges match the middle two edges, but with the order of nodes swapped."
      ]
    },
    {
      "cell_type": "code",
      "execution_count": 16,
      "metadata": {
        "id": "Mq4NVs0_nOxh"
      },
      "outputs": [],
      "source": [
        "assert train_edge_index[:,-1].cpu().numpy()[::-1].all() == train_edge_index[:, len(train)-1].cpu().numpy().all()\n",
        "assert train_edge_index[:, 0].cpu().numpy()[::-1].all() == train_edge_index[:, len(train)].cpu().numpy().all()"
      ]
    },
    {
      "cell_type": "markdown",
      "metadata": {
        "id": "2ys1P7mtcr54"
      },
      "source": [
        "## Model Architecture"
      ]
    },
    {
      "cell_type": "markdown",
      "metadata": {
        "id": "49WD8SryyUds"
      },
      "source": [
        "### LightGCN Convolutional Layer\n",
        "\n",
        "Creating a class for a single LightGCN convolutional layer"
      ]
    },
    {
      "cell_type": "code",
      "execution_count": 17,
      "metadata": {
        "id": "-aTMoHisNIh_"
      },
      "outputs": [],
      "source": [
        "class LightGCNConv(MessagePassing):\n",
        "    \"\"\"\n",
        "    LightGCNConv: Graph Convolutional Layer for LightGCN Model.\n",
        "\n",
        "    Parameters:\n",
        "        aggr (str): Aggregation method for message passing. Default is 'add'.\n",
        "    \"\"\"\n",
        "\n",
        "    def __init__(self, aggr='add'):\n",
        "        super().__init__(aggr=aggr)\n",
        "\n",
        "    def forward(self, x, edge_index):\n",
        "        \"\"\"\n",
        "        Forward pass for LightGCNConv.\n",
        "\n",
        "        Args:\n",
        "            x (torch.Tensor): Input node features.\n",
        "            edge_index (torch.Tensor): Graph edge indices.\n",
        "\n",
        "        Returns:\n",
        "            torch.Tensor: Output tensor after message passing.\n",
        "        \"\"\"\n",
        "        # Compute normalization\n",
        "        from_, to_ = edge_index\n",
        "        deg = degree(to_, x.size(0), dtype=x.dtype)\n",
        "        deg_inv_sqrt = deg.pow(-0.5)\n",
        "        deg_inv_sqrt[deg_inv_sqrt == float('inf')] = 0\n",
        "        norm = deg_inv_sqrt[from_] * deg_inv_sqrt[to_]\n",
        "\n",
        "        # Start propagating messages (no update after aggregation)\n",
        "        return self.propagate(edge_index, x=x, norm=norm)\n",
        "\n",
        "    def message(self, x_j, norm):\n",
        "        \"\"\"\n",
        "        Message function for LightGCNConv.\n",
        "\n",
        "        Args:\n",
        "            x_j (torch.Tensor): Input tensor from neighboring nodes.\n",
        "            norm (torch.Tensor): Normalization tensor.\n",
        "\n",
        "        Returns:\n",
        "            torch.Tensor: Scaled input tensor for aggregation.\n",
        "        \"\"\"\n",
        "        return norm.view(-1, 1) * x_j"
      ]
    },
    {
      "cell_type": "markdown",
      "metadata": {
        "id": "I2tW9FJFqNjn"
      },
      "source": [
        "### Recommender System GNN\n",
        "\n",
        "Creating a wrapper class for LightGCN"
      ]
    },
    {
      "cell_type": "code",
      "execution_count": 18,
      "metadata": {
        "id": "nT5LTkI8Ml1c"
      },
      "outputs": [],
      "source": [
        "class RecSysGNN(nn.Module):\n",
        "    def __init__(self, latent_dim, num_layers, num_users, num_items):\n",
        "        \"\"\"\n",
        "        Constructor for RecSysGNN.\n",
        "\n",
        "        Args:\n",
        "            latent_dim (int): Dimension of the latent embeddings.\n",
        "            num_layers (int): Number of graph convolution layers.\n",
        "            num_users (int): Number of unique user IDs.\n",
        "            num_items (int): Number of unique item IDs.\n",
        "        \"\"\"\n",
        "        super(RecSysGNN, self).__init__()\n",
        "        self.embedding = nn.Embedding(num_users + num_items, latent_dim)\n",
        "        self.convs = nn.ModuleList(LightGCNConv() for _ in range(num_layers))\n",
        "        self.init_parameters()\n",
        "\n",
        "    def init_parameters(self):\n",
        "        \"\"\"\n",
        "        Initialize model parameters.\n",
        "\n",
        "        Authors of LightGCN report higher results with normal initialization.\n",
        "        \"\"\"\n",
        "        nn.init.normal_(self.embedding.weight, std=0.1)\n",
        "\n",
        "    def forward(self, edge_index):\n",
        "        \"\"\"\n",
        "        Forward pass for RecSysGNN.\n",
        "\n",
        "        Args:\n",
        "            edge_index (torch.Tensor): Graph edge indices.\n",
        "\n",
        "        Returns:\n",
        "            tuple: Tuple containing original embeddings and final output.\n",
        "        \"\"\"\n",
        "        emb0 = self.embedding.weight\n",
        "        embs = [emb0]\n",
        "\n",
        "        emb = emb0\n",
        "        for conv in self.convs:\n",
        "            emb = conv(x=emb, edge_index=edge_index)\n",
        "            embs.append(emb)\n",
        "\n",
        "        out = torch.mean(torch.stack(embs, dim=0), dim=0)\n",
        "\n",
        "        return emb0, out\n",
        "\n",
        "    def encode_minibatch(self, users, pos_items, neg_items, edge_index):\n",
        "        \"\"\"\n",
        "        Encode a minibatch for training.\n",
        "\n",
        "        Args:\n",
        "            users (torch.Tensor): User indices.\n",
        "            pos_items (torch.Tensor): Positive item indices.\n",
        "            neg_items (torch.Tensor): Negative item indices.\n",
        "            edge_index (torch.Tensor): Graph edge indices.\n",
        "\n",
        "        Returns:\n",
        "            tuple: Tuple containing embeddings for users, positive items, negative items,\n",
        "            original embeddings for users, positive items, negative items.\n",
        "        \"\"\"\n",
        "        emb0, out = self(edge_index)\n",
        "        return (\n",
        "            out[users],\n",
        "            out[pos_items],\n",
        "            out[neg_items],\n",
        "            emb0[users],\n",
        "            emb0[pos_items],\n",
        "            emb0[neg_items]\n",
        "        )"
      ]
    },
    {
      "cell_type": "markdown",
      "metadata": {
        "id": "dyqEQ6kfCY5V"
      },
      "source": [
        "## Loss function and metrics\n",
        "\n",
        "We implement both the Bayesian Personalized Ranking loss function for a single minibatch of users, positive items, and negative items, as well as the precision@K and recall@K metrics.\n",
        "\n",
        "Implementating BPR, precision@K, recall@K, NDCG@K & MAP@K"
      ]
    },
    {
      "cell_type": "code",
      "execution_count": 19,
      "metadata": {
        "id": "bwrPmvXPow5q"
      },
      "outputs": [],
      "source": [
        "def compute_bpr_loss(users, users_emb, pos_emb, neg_emb, user_emb0, pos_emb0, neg_emb0):\n",
        "    \"\"\"\n",
        "    Compute BPR loss and regularization loss.\n",
        "\n",
        "    Args:\n",
        "        users (torch.Tensor): User indices.\n",
        "        users_emb (torch.Tensor): User embeddings.\n",
        "        pos_emb (torch.Tensor): Positive item embeddings.\n",
        "        neg_emb (torch.Tensor): Negative item embeddings.\n",
        "        user_emb0 (torch.Tensor): Original user embeddings.\n",
        "        pos_emb0 (torch.Tensor): Original positive item embeddings.\n",
        "        neg_emb0 (torch.Tensor): Original negative item embeddings.\n",
        "\n",
        "    Returns:\n",
        "        tuple: Tuple containing BPR loss and regularization loss.\n",
        "    \"\"\"\n",
        "    # Compute regularization loss from initial embeddings\n",
        "    reg_loss = (1 / 2) * (\n",
        "        user_emb0.norm().pow(2) +\n",
        "        pos_emb0.norm().pow(2) +\n",
        "        neg_emb0.norm().pow(2)\n",
        "    ) / float(len(users))\n",
        "\n",
        "    # Compute BPR loss from user, positive item, and negative item embeddings\n",
        "    pos_scores = torch.mul(users_emb, pos_emb).sum(dim=1)\n",
        "    neg_scores = torch.mul(users_emb, neg_emb).sum(dim=1)\n",
        "\n",
        "    bpr_loss = torch.mean(F.softplus(neg_scores - pos_scores))\n",
        "\n",
        "    return bpr_loss, reg_loss"
      ]
    },
    {
      "cell_type": "code",
      "execution_count": 20,
      "metadata": {
        "id": "52FbYNNWsWQP"
      },
      "outputs": [],
      "source": [
        "def convert_to_sparse_tensor(dok_mtrx):\n",
        "    \"\"\"\n",
        "    Convert a scipy.sparse matrix to a sparse PyTorch tensor.\n",
        "\n",
        "    Args:\n",
        "        dok_mtrx (scipy.sparse.dok_matrix): Input sparse matrix in DOK format.\n",
        "\n",
        "    Returns:\n",
        "        torch.sparse.FloatTensor: Sparse PyTorch tensor.\n",
        "    \"\"\"\n",
        "    # Convert DOK matrix to COO format and cast to float32\n",
        "    dok_mtrx_coo = dok_mtrx.tocoo().astype(np.float32)\n",
        "\n",
        "    # Extract values and indices\n",
        "    values = dok_mtrx_coo.data\n",
        "    indices = np.vstack((dok_mtrx_coo.row, dok_mtrx_coo.col))\n",
        "\n",
        "    # Convert indices and values to PyTorch tensors\n",
        "    i = torch.LongTensor(indices)\n",
        "    v = torch.FloatTensor(values)\n",
        "\n",
        "    # Get the shape of the sparse tensor\n",
        "    shape = dok_mtrx_coo.shape\n",
        "\n",
        "    # Create the sparse PyTorch tensor\n",
        "    dok_mtrx_sparse_tensor = torch.sparse.FloatTensor(i, v, torch.Size(shape))\n",
        "\n",
        "    return dok_mtrx_sparse_tensor"
      ]
    },
    {
      "cell_type": "code",
      "execution_count": 21,
      "metadata": {
        "id": "chavFCgOrUqk"
      },
      "outputs": [],
      "source": [
        "def get_metrics(user_Embed_wts, item_Embed_wts, n_users, n_items, train_data, test_data, K):\n",
        "    \"\"\"\n",
        "    Compute recall and precision metrics for the recommendation model.\n",
        "\n",
        "    Parameters:\n",
        "        user_Embed_wts (torch.Tensor): User embedding weights.\n",
        "        item_Embed_wts (torch.Tensor): Item embedding weights.\n",
        "        n_users (int): Number of unique users.\n",
        "        n_items (int): Number of unique items.\n",
        "        train_data (pd.DataFrame): Training data.\n",
        "        test_data (pd.DataFrame): Test data.\n",
        "        K (int): Top-K recommendations.\n",
        "\n",
        "    Returns:\n",
        "        float: Mean recall value.\n",
        "        float: Mean precision value.\n",
        "    \"\"\"\n",
        "\n",
        "    # Initialize user and item embeddings using provided weights\n",
        "    user_Embedding = nn.Embedding(user_Embed_wts.size()[0], user_Embed_wts.size()[1], _weight=user_Embed_wts)\n",
        "    item_Embedding = nn.Embedding(item_Embed_wts.size()[0], item_Embed_wts.size()[1], _weight=item_Embed_wts)\n",
        "\n",
        "    # Extract unique user IDs from the test data\n",
        "    test_user_ids = torch.LongTensor(test_data['user_id_idx'].unique())\n",
        "\n",
        "    # Compute relevance scores using matrix multiplication\n",
        "    relevance_score = torch.matmul(user_Embed_wts, torch.transpose(item_Embed_wts, 0, 1))\n",
        "\n",
        "    # Create a sparse matrix R based on training data interactions\n",
        "    R = sp.dok_matrix((n_users, n_items), dtype=np.float32)\n",
        "    R[train_data['user_id_idx'], train_data['item_id_idx']] = 1.0\n",
        "\n",
        "    # Convert sparse matrix R to a sparse PyTorch tensor\n",
        "    R_tensor = convert_to_sparse_tensor(R)\n",
        "    R_tensor_dense = R_tensor.to_dense()\n",
        "\n",
        "    # Set interactions in R_tensor_dense to negative infinity\n",
        "    R_tensor_dense = R_tensor_dense * (-np.inf)\n",
        "    R_tensor_dense = torch.nan_to_num(R_tensor_dense, nan=0.0).to(device)\n",
        "\n",
        "    # Add R_tensor_dense to relevance scores\n",
        "    relevance_score = relevance_score + R_tensor_dense\n",
        "\n",
        "    # Get top-K relevance scores and indices\n",
        "    topk_relevance_score = torch.topk(relevance_score, K).values\n",
        "    topk_relevance_indices = torch.topk(relevance_score, K).indices\n",
        "\n",
        "    # Create a DataFrame for top-K relevance indices\n",
        "    topk_relevance_indices_df = pd.DataFrame(topk_relevance_indices.cpu().numpy(),\n",
        "                                              columns=['top_indx_' + str(x + 1) for x in range(K)])\n",
        "\n",
        "    topk_relevance_indices_df['user_ID'] = topk_relevance_indices_df.index\n",
        "\n",
        "    # Create a column with top-K relevant items\n",
        "    topk_relevance_indices_df['top_rlvnt_itm'] = topk_relevance_indices_df[\n",
        "        ['top_indx_' + str(x + 1) for x in range(K)]].values.tolist()\n",
        "    topk_relevance_indices_df = topk_relevance_indices_df[['user_ID', 'top_rlvnt_itm']]\n",
        "\n",
        "    # Group test data by user ID and extract lists of interacted items\n",
        "    test_interacted_items = test_data.groupby('user_id_idx')['item_id_idx'].apply(list).reset_index()\n",
        "\n",
        "    # Merge top-K relevance indices with test interacted items\n",
        "    metrics_df = pd.merge(test_interacted_items, topk_relevance_indices_df, how='left', left_on='user_id_idx',\n",
        "                          right_on=['user_ID'])\n",
        "    metrics_df['intrsctn_itm'] = [list(set(a).intersection(b)) for a, b in\n",
        "                                  zip(metrics_df.item_id_idx, metrics_df.top_rlvnt_itm)]\n",
        "\n",
        "    # Compute recall and precision\n",
        "    metrics_df['recall'] = metrics_df.apply(lambda x: len(x['intrsctn_itm']) / len(x['item_id_idx']), axis=1)\n",
        "    metrics_df['precision'] = metrics_df.apply(lambda x: len(x['intrsctn_itm']) / K, axis=1)\n",
        "\n",
        "    # Return mean values of recall, precision, nDCG, and MAP\n",
        "    return metrics_df['recall'].mean(), metrics_df['precision'].mean()"
      ]
    },
    {
      "cell_type": "markdown",
      "metadata": {
        "id": "_qOC3fF9m6cH"
      },
      "source": [
        "## Train and evaluate models"
      ]
    },
    {
      "cell_type": "code",
      "execution_count": 36,
      "metadata": {
        "id": "MZtgfxxIm5nL"
      },
      "outputs": [],
      "source": [
        "latent_dim = 128\n",
        "n_layers = 4\n",
        "\n",
        "EPOCHS = 50\n",
        "BATCH_SIZE = 1024\n",
        "DECAY = 0.0001\n",
        "LR = 0.005\n",
        "K = 20"
      ]
    },
    {
      "cell_type": "code",
      "execution_count": 37,
      "metadata": {
        "id": "B5HB_FX5pdgv"
      },
      "outputs": [],
      "source": [
        "def train_and_eval(model, optimizer, train_df):\n",
        "    \"\"\"\n",
        "    Train the model and evaluate its performance over multiple epochs.\n",
        "\n",
        "    Args:\n",
        "        model (RecSysGNN): The recommendation system GNN model.\n",
        "        optimizer (torch.optim.Optimizer): The optimizer for training the model.\n",
        "        train_df (pd.DataFrame): Training data.\n",
        "        test_df (pd.DataFrame): Test data.\n",
        "        train_edge_index (torch.Tensor): Edge index for training.\n",
        "        n_users (int): Number of unique users.\n",
        "        n_items (int): Number of unique items.\n",
        "        K (int): Top-K recommendations.\n",
        "\n",
        "    Returns:\n",
        "        tuple: Tuple containing lists of loss values, recall, precision, nDCG, and MAP.\n",
        "    \"\"\"\n",
        "    # Lists to store metrics across epochs\n",
        "    loss_list_epoch = []\n",
        "    bpr_loss_list_epoch = []\n",
        "    reg_loss_list_epoch = []\n",
        "    recall_list = []\n",
        "    precision_list = []\n",
        "\n",
        "    # Training loop over epochs\n",
        "    for epoch in tqdm(range(EPOCHS)):\n",
        "        n_batch = int(len(train_df) / BATCH_SIZE)\n",
        "\n",
        "        final_loss_list = []\n",
        "        bpr_loss_list = []\n",
        "        reg_loss_list = []\n",
        "\n",
        "        # Set the model to training mode\n",
        "        model.train()\n",
        "\n",
        "        # Batch-wise training loop\n",
        "        for batch_idx in range(n_batch):\n",
        "            optimizer.zero_grad()\n",
        "\n",
        "            # Generate a minibatch of data\n",
        "            users, pos_items, neg_items = data_loader(train_df, BATCH_SIZE, n_users, n_items)\n",
        "            users_emb, pos_emb, neg_emb, userEmb0, posEmb0, negEmb0 = model.encode_minibatch(users, pos_items, neg_items, train_edge_index)\n",
        "\n",
        "            # Compute BPR loss and regularization loss\n",
        "            bpr_loss, reg_loss = compute_bpr_loss(\n",
        "                users, users_emb, pos_emb, neg_emb, userEmb0, posEmb0, negEmb0\n",
        "            )\n",
        "            reg_loss = DECAY * reg_loss\n",
        "            final_loss = bpr_loss + reg_loss\n",
        "\n",
        "            # Backward pass and optimization step\n",
        "            final_loss.backward()\n",
        "            optimizer.step()\n",
        "\n",
        "            # Append loss values to lists\n",
        "            final_loss_list.append(final_loss.item())\n",
        "            bpr_loss_list.append(bpr_loss.item())\n",
        "            reg_loss_list.append(reg_loss.item())\n",
        "\n",
        "        # Evaluation on test set after each epoch\n",
        "        model.eval()\n",
        "        with torch.no_grad():\n",
        "            _, out = model(train_edge_index)\n",
        "            final_user_Embed, final_item_Embed = torch.split(out, (n_users, n_items))\n",
        "            test_topK_recall, test_topK_precision = get_metrics(\n",
        "                final_user_Embed, final_item_Embed, n_users, n_items, train_df, test_df, K\n",
        "            )\n",
        "\n",
        "        # Append metrics to corresponding lists\n",
        "        loss_list_epoch.append(round(np.mean(final_loss_list), 4))\n",
        "        bpr_loss_list_epoch.append(round(np.mean(bpr_loss_list), 4))\n",
        "        reg_loss_list_epoch.append(round(np.mean(reg_loss_list), 4))\n",
        "        recall_list.append(round(test_topK_recall, 4))\n",
        "        precision_list.append(round(test_topK_precision, 4))\n",
        "\n",
        "    # Return a tuple containing lists of metrics\n",
        "    return (\n",
        "        loss_list_epoch,\n",
        "        bpr_loss_list_epoch,\n",
        "        reg_loss_list_epoch,\n",
        "        recall_list,\n",
        "        precision_list\n",
        "    )"
      ]
    },
    {
      "cell_type": "markdown",
      "metadata": {
        "id": "Z4xJSiBiznki"
      },
      "source": [
        "### Train LightGCN"
      ]
    },
    {
      "cell_type": "code",
      "execution_count": 38,
      "metadata": {
        "colab": {
          "base_uri": "https://localhost:8080/"
        },
        "id": "eKBv9eXongux",
        "outputId": "1eb4d0db-51b0-4043-9c6d-bdf4a56a6571"
      },
      "outputs": [
        {
          "name": "stdout",
          "output_type": "stream",
          "text": [
            "Size of Learnable Embedding :  [torch.Size([2490, 128])]\n"
          ]
        }
      ],
      "source": [
        "# Instantiate the RecSysGNN model\n",
        "lightgcn = RecSysGNN(\n",
        "    latent_dim=latent_dim,\n",
        "    num_layers=n_layers,\n",
        "    num_users=n_users,\n",
        "    num_items=n_items,\n",
        ").to(device)\n",
        "\n",
        "# Initialize the Adam optimizer for training the model\n",
        "optimizer = torch.optim.Adam(lightgcn.parameters(), lr=LR)\n",
        "\n",
        "# Print the size of learnable parameters in the model\n",
        "print(\"Size of Learnable Embedding : \", [x.shape for x in lightgcn.parameters()])"
      ]
    },
    {
      "cell_type": "code",
      "execution_count": 39,
      "metadata": {
        "colab": {
          "base_uri": "https://localhost:8080/",
          "height": 49,
          "referenced_widgets": [
            "50dbec9431d744a6ab14c4939e17a378",
            "32cf7760bea944e6b353aea8fada0b73",
            "1271840f5e54488b969174cd35f10350",
            "e2c66e4d79154a44839456acc4bf4857",
            "c43153fed0af4b11910f723f61f52eb6",
            "a22dbb26a13647008833d27dde3f0f02",
            "823557c872514043bbbc162b2451d8ec",
            "1eba86312c194f699d463c5acd50b5d7",
            "9ff73f29be0c424d9559794b6ef25a29",
            "2aaa81aa242e4787b675cc5519c9da1a",
            "3dc7bf3b6b7e4e9bbe77cbf8834d8527"
          ]
        },
        "id": "iXfsuJlcy3FT",
        "outputId": "5914fd1b-2524-4b8d-e116-ae075131e835"
      },
      "outputs": [
        {
          "data": {
            "application/vnd.jupyter.widget-view+json": {
              "model_id": "50dbec9431d744a6ab14c4939e17a378",
              "version_major": 2,
              "version_minor": 0
            },
            "text/plain": [
              "  0%|          | 0/50 [00:00<?, ?it/s]"
            ]
          },
          "metadata": {},
          "output_type": "display_data"
        }
      ],
      "source": [
        "light_loss, light_bpr, light_reg, light_recall, light_precision = train_and_eval(lightgcn, optimizer, train_df)"
      ]
    },
    {
      "cell_type": "code",
      "execution_count": 40,
      "metadata": {
        "id": "vCOJY4XST38b"
      },
      "outputs": [],
      "source": [
        "epoch_list = [(i+1) for i in range(EPOCHS)]"
      ]
    },
    {
      "cell_type": "markdown",
      "metadata": {
        "id": "KggB-h1o1O6G"
      },
      "source": [
        "## Plotting training graphs information"
      ]
    },
    {
      "cell_type": "code",
      "execution_count": 41,
      "metadata": {
        "colab": {
          "base_uri": "https://localhost:8080/",
          "height": 467
        },
        "id": "Z5P2Zf6yT4Uu",
        "outputId": "958ae640-334b-4c30-cf82-eca5f3747768"
      },
      "outputs": [
        {
          "data": {
            "text/plain": [
              "<matplotlib.legend.Legend at 0x7ebd4a47a1a0>"
            ]
          },
          "execution_count": 41,
          "metadata": {},
          "output_type": "execute_result"
        },
        {
          "data": {
            "image/png": "[encoded data removed]",
            "text/plain": [
              "<Figure size 640x480 with 1 Axes>"
            ]
          },
          "metadata": {},
          "output_type": "display_data"
        }
      ],
      "source": [
        "plt.plot(epoch_list, light_loss, label='Total Training Loss')\n",
        "plt.plot(epoch_list, light_bpr, label='BPR Training Loss')\n",
        "plt.plot(epoch_list, light_reg, label='Reg Training Loss')\n",
        "\n",
        "plt.xlabel('Epoch')\n",
        "plt.ylabel('Loss')\n",
        "plt.legend()"
      ]
    },
    {
      "cell_type": "code",
      "execution_count": 42,
      "metadata": {
        "colab": {
          "base_uri": "https://localhost:8080/",
          "height": 467
        },
        "id": "I1Quk5mahJ1n",
        "outputId": "9935c127-5c5f-41f5-c584-09c090de80ad"
      },
      "outputs": [
        {
          "data": {
            "text/plain": [
              "<matplotlib.legend.Legend at 0x7ebd431bffd0>"
            ]
          },
          "execution_count": 42,
          "metadata": {},
          "output_type": "execute_result"
        },
        {
          "data": {
            "image/png": "[encoded data removed]",
            "text/plain": [
              "<Figure size 640x480 with 1 Axes>"
            ]
          },
          "metadata": {},
          "output_type": "display_data"
        }
      ],
      "source": [
        "plt.plot(epoch_list, light_recall, label='Recall')\n",
        "plt.plot(epoch_list, light_precision, label='Precision')\n",
        "\n",
        "plt.xlabel('Epoch')\n",
        "plt.ylabel('Metrics')\n",
        "plt.legend()"
      ]
    }
  ],
  "metadata": {
    "accelerator": "GPU",
    "colab": {
      "gpuType": "T4",
      "provenance": []
    },
    "kernelspec": {
      "display_name": "Python 3",
      "name": "python3"
    },
    "language_info": {
      "name": "python"
    },
    "widgets": {
      "application/vnd.jupyter.widget-state+json": {
        "1271840f5e54488b969174cd35f10350": {
          "model_module": "@jupyter-widgets/controls",
          "model_module_version": "1.5.0",
          "model_name": "FloatProgressModel",
          "state": {
            "_dom_classes": [],
            "_model_module": "@jupyter-widgets/controls",
            "_model_module_version": "1.5.0",
            "_model_name": "FloatProgressModel",
            "_view_count": null,
            "_view_module": "@jupyter-widgets/controls",
            "_view_module_version": "1.5.0",
            "_view_name": "ProgressView",
            "bar_style": "success",
            "description": "",
            "description_tooltip": null,
            "layout": "IPY_MODEL_1eba86312c194f699d463c5acd50b5d7",
            "max": 50,
            "min": 0,
            "orientation": "horizontal",
            "style": "IPY_MODEL_9ff73f29be0c424d9559794b6ef25a29",
            "value": 50
          }
        },
        "1eba86312c194f699d463c5acd50b5d7": {
          "model_module": "@jupyter-widgets/base",
          "model_module_version": "1.2.0",
          "model_name": "LayoutModel",
          "state": {
            "_model_module": "@jupyter-widgets/base",
            "_model_module_version": "1.2.0",
            "_model_name": "LayoutModel",
            "_view_count": null,
            "_view_module": "@jupyter-widgets/base",
            "_view_module_version": "1.2.0",
            "_view_name": "LayoutView",
            "align_content": null,
            "align_items": null,
            "align_self": null,
            "border": null,
            "bottom": null,
            "display": null,
            "flex": null,
            "flex_flow": null,
            "grid_area": null,
            "grid_auto_columns": null,
            "grid_auto_flow": null,
            "grid_auto_rows": null,
            "grid_column": null,
            "grid_gap": null,
            "grid_row": null,
            "grid_template_areas": null,
            "grid_template_columns": null,
            "grid_template_rows": null,
            "height": null,
            "justify_content": null,
            "justify_items": null,
            "left": null,
            "margin": null,
            "max_height": null,
            "max_width": null,
            "min_height": null,
            "min_width": null,
            "object_fit": null,
            "object_position": null,
            "order": null,
            "overflow": null,
            "overflow_x": null,
            "overflow_y": null,
            "padding": null,
            "right": null,
            "top": null,
            "visibility": null,
            "width": null
          }
        },
        "2aaa81aa242e4787b675cc5519c9da1a": {
          "model_module": "@jupyter-widgets/base",
          "model_module_version": "1.2.0",
          "model_name": "LayoutModel",
          "state": {
            "_model_module": "@jupyter-widgets/base",
            "_model_module_version": "1.2.0",
            "_model_name": "LayoutModel",
            "_view_count": null,
            "_view_module": "@jupyter-widgets/base",
            "_view_module_version": "1.2.0",
            "_view_name": "LayoutView",
            "align_content": null,
            "align_items": null,
            "align_self": null,
            "border": null,
            "bottom": null,
            "display": null,
            "flex": null,
            "flex_flow": null,
            "grid_area": null,
            "grid_auto_columns": null,
            "grid_auto_flow": null,
            "grid_auto_rows": null,
            "grid_column": null,
            "grid_gap": null,
            "grid_row": null,
            "grid_template_areas": null,
            "grid_template_columns": null,
            "grid_template_rows": null,
            "height": null,
            "justify_content": null,
            "justify_items": null,
            "left": null,
            "margin": null,
            "max_height": null,
            "max_width": null,
            "min_height": null,
            "min_width": null,
            "object_fit": null,
            "object_position": null,
            "order": null,
            "overflow": null,
            "overflow_x": null,
            "overflow_y": null,
            "padding": null,
            "right": null,
            "top": null,
            "visibility": null,
            "width": null
          }
        },
        "32cf7760bea944e6b353aea8fada0b73": {
          "model_module": "@jupyter-widgets/controls",
          "model_module_version": "1.5.0",
          "model_name": "HTMLModel",
          "state": {
            "_dom_classes": [],
            "_model_module": "@jupyter-widgets/controls",
            "_model_module_version": "1.5.0",
            "_model_name": "HTMLModel",
            "_view_count": null,
            "_view_module": "@jupyter-widgets/controls",
            "_view_module_version": "1.5.0",
            "_view_name": "HTMLView",
            "description": "",
            "description_tooltip": null,
            "layout": "IPY_MODEL_a22dbb26a13647008833d27dde3f0f02",
            "placeholder": "​",
            "style": "IPY_MODEL_823557c872514043bbbc162b2451d8ec",
            "value": "100%"
          }
        },
        "3dc7bf3b6b7e4e9bbe77cbf8834d8527": {
          "model_module": "@jupyter-widgets/controls",
          "model_module_version": "1.5.0",
          "model_name": "DescriptionStyleModel",
          "state": {
            "_model_module": "@jupyter-widgets/controls",
            "_model_module_version": "1.5.0",
            "_model_name": "DescriptionStyleModel",
            "_view_count": null,
            "_view_module": "@jupyter-widgets/base",
            "_view_module_version": "1.2.0",
            "_view_name": "StyleView",
            "description_width": ""
          }
        },
        "50dbec9431d744a6ab14c4939e17a378": {
          "model_module": "@jupyter-widgets/controls",
          "model_module_version": "1.5.0",
          "model_name": "HBoxModel",
          "state": {
            "_dom_classes": [],
            "_model_module": "@jupyter-widgets/controls",
            "_model_module_version": "1.5.0",
            "_model_name": "HBoxModel",
            "_view_count": null,
            "_view_module": "@jupyter-widgets/controls",
            "_view_module_version": "1.5.0",
            "_view_name": "HBoxView",
            "box_style": "",
            "children": [
              "IPY_MODEL_32cf7760bea944e6b353aea8fada0b73",
              "IPY_MODEL_1271840f5e54488b969174cd35f10350",
              "IPY_MODEL_e2c66e4d79154a44839456acc4bf4857"
            ],
            "layout": "IPY_MODEL_c43153fed0af4b11910f723f61f52eb6"
          }
        },
        "823557c872514043bbbc162b2451d8ec": {
          "model_module": "@jupyter-widgets/controls",
          "model_module_version": "1.5.0",
          "model_name": "DescriptionStyleModel",
          "state": {
            "_model_module": "@jupyter-widgets/controls",
            "_model_module_version": "1.5.0",
            "_model_name": "DescriptionStyleModel",
            "_view_count": null,
            "_view_module": "@jupyter-widgets/base",
            "_view_module_version": "1.2.0",
            "_view_name": "StyleView",
            "description_width": ""
          }
        },
        "9ff73f29be0c424d9559794b6ef25a29": {
          "model_module": "@jupyter-widgets/controls",
          "model_module_version": "1.5.0",
          "model_name": "ProgressStyleModel",
          "state": {
            "_model_module": "@jupyter-widgets/controls",
            "_model_module_version": "1.5.0",
            "_model_name": "ProgressStyleModel",
            "_view_count": null,
            "_view_module": "@jupyter-widgets/base",
            "_view_module_version": "1.2.0",
            "_view_name": "StyleView",
            "bar_color": null,
            "description_width": ""
          }
        },
        "a22dbb26a13647008833d27dde3f0f02": {
          "model_module": "@jupyter-widgets/base",
          "model_module_version": "1.2.0",
          "model_name": "LayoutModel",
          "state": {
            "_model_module": "@jupyter-widgets/base",
            "_model_module_version": "1.2.0",
            "_model_name": "LayoutModel",
            "_view_count": null,
            "_view_module": "@jupyter-widgets/base",
            "_view_module_version": "1.2.0",
            "_view_name": "LayoutView",
            "align_content": null,
            "align_items": null,
            "align_self": null,
            "border": null,
            "bottom": null,
            "display": null,
            "flex": null,
            "flex_flow": null,
            "grid_area": null,
            "grid_auto_columns": null,
            "grid_auto_flow": null,
            "grid_auto_rows": null,
            "grid_column": null,
            "grid_gap": null,
            "grid_row": null,
            "grid_template_areas": null,
            "grid_template_columns": null,
            "grid_template_rows": null,
            "height": null,
            "justify_content": null,
            "justify_items": null,
            "left": null,
            "margin": null,
            "max_height": null,
            "max_width": null,
            "min_height": null,
            "min_width": null,
            "object_fit": null,
            "object_position": null,
            "order": null,
            "overflow": null,
            "overflow_x": null,
            "overflow_y": null,
            "padding": null,
            "right": null,
            "top": null,
            "visibility": null,
            "width": null
          }
        },
        "c43153fed0af4b11910f723f61f52eb6": {
          "model_module": "@jupyter-widgets/base",
          "model_module_version": "1.2.0",
          "model_name": "LayoutModel",
          "state": {
            "_model_module": "@jupyter-widgets/base",
            "_model_module_version": "1.2.0",
            "_model_name": "LayoutModel",
            "_view_count": null,
            "_view_module": "@jupyter-widgets/base",
            "_view_module_version": "1.2.0",
            "_view_name": "LayoutView",
            "align_content": null,
            "align_items": null,
            "align_self": null,
            "border": null,
            "bottom": null,
            "display": null,
            "flex": null,
            "flex_flow": null,
            "grid_area": null,
            "grid_auto_columns": null,
            "grid_auto_flow": null,
            "grid_auto_rows": null,
            "grid_column": null,
            "grid_gap": null,
            "grid_row": null,
            "grid_template_areas": null,
            "grid_template_columns": null,
            "grid_template_rows": null,
            "height": null,
            "justify_content": null,
            "justify_items": null,
            "left": null,
            "margin": null,
            "max_height": null,
            "max_width": null,
            "min_height": null,
            "min_width": null,
            "object_fit": null,
            "object_position": null,
            "order": null,
            "overflow": null,
            "overflow_x": null,
            "overflow_y": null,
            "padding": null,
            "right": null,
            "top": null,
            "visibility": null,
            "width": null
          }
        },
        "e2c66e4d79154a44839456acc4bf4857": {
          "model_module": "@jupyter-widgets/controls",
          "model_module_version": "1.5.0",
          "model_name": "HTMLModel",
          "state": {
            "_dom_classes": [],
            "_model_module": "@jupyter-widgets/controls",
            "_model_module_version": "1.5.0",
            "_model_name": "HTMLModel",
            "_view_count": null,
            "_view_module": "@jupyter-widgets/controls",
            "_view_module_version": "1.5.0",
            "_view_name": "HTMLView",
            "description": "",
            "description_tooltip": null,
            "layout": "IPY_MODEL_2aaa81aa242e4787b675cc5519c9da1a",
            "placeholder": "​",
            "style": "IPY_MODEL_3dc7bf3b6b7e4e9bbe77cbf8834d8527",
            "value": " 50/50 [03:03&lt;00:00,  3.50s/it]"
          }
        }
      }
    }
  },
  "nbformat": 4,
  "nbformat_minor": 0
}
