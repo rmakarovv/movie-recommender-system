{
  "cells": [
    {
      "cell_type": "markdown",
      "metadata": {
        "id": "ktxdLosxtgZd"
      },
      "source": [
        "# Movie Recommender System\n",
        "\n",
        "    author: Roman Makarov\n",
        "    e-mail: o.makarov@innopolis.university"
      ]
    },
    {
      "cell_type": "code",
      "execution_count": 1,
      "metadata": {
        "id": "pt5CFjXEngz6"
      },
      "outputs": [],
      "source": [
        "SAVE_PATH = '../models/model.h5' # path to save the file of the trained model\n",
        "TRAIN_PATH_1 = '../reports/figures/train1.png' # path to save training graph 1\n",
        "TRAIN_PATH_2 = '../reports/figures/train2.png' # path to save training graph 2"
      ]
    },
    {
      "cell_type": "code",
      "execution_count": 2,
      "metadata": {
        "id": "_-pArCURmWDf"
      },
      "outputs": [],
      "source": [
        "SAVE_PATH = 'model.h5' # path to save the file of the trained model\n",
        "TRAIN_PATH_1 = 'train1.png' # path to save training graph 1\n",
        "TRAIN_PATH_2 = 'train2.png' # path to save training graph 2"
      ]
    },
    {
      "cell_type": "markdown",
      "metadata": {
        "id": "BoRvTQ1vtwcq"
      },
      "source": [
        "## Retrieving the data\n",
        "\n",
        "Downloading the dataset from the website"
      ]
    },
    {
      "cell_type": "code",
      "execution_count": null,
      "metadata": {
        "id": "4p_Pj_D7t3Rk"
      },
      "outputs": [],
      "source": [
        "!wget https://files.grouplens.org/datasets/movielens/ml-100k.zip"
      ]
    },
    {
      "cell_type": "markdown",
      "metadata": {
        "id": "9saAipTquoT5"
      },
      "source": [
        "Unzipping the dataset"
      ]
    },
    {
      "cell_type": "code",
      "execution_count": 4,
      "metadata": {
        "id": "zWF5zGGopNU3"
      },
      "outputs": [],
      "source": [
        "%%capture\n",
        "!unzip ml-100k.zip"
      ]
    },
    {
      "cell_type": "markdown",
      "metadata": {
        "id": "vXcJZycyurU2"
      },
      "source": [
        "## Installing required libraries and importing modules"
      ]
    },
    {
      "cell_type": "code",
      "execution_count": 5,
      "metadata": {
        "id": "HHKI1XE3r0FJ"
      },
      "outputs": [],
      "source": [
        "%%capture\n",
        "!pip install torch_geometric"
      ]
    },
    {
      "cell_type": "code",
      "execution_count": 6,
      "metadata": {
        "id": "Y9fonQcxt3do"
      },
      "outputs": [],
      "source": [
        "import random\n",
        "import time\n",
        "\n",
        "import matplotlib.pyplot as plt\n",
        "import networkx as nx\n",
        "import numpy as np\n",
        "import pandas as pd\n",
        "pd.set_option('display.max_colwidth', None)\n",
        "\n",
        "import torch\n",
        "import torch.nn as nn\n",
        "import torch.nn.functional as F\n",
        "import torch.optim as optim\n",
        "import torch_geometric\n",
        "from torch_geometric.nn.conv import MessagePassing\n",
        "from torch_geometric.utils import degree\n",
        "\n",
        "from tqdm.notebook import tqdm\n",
        "from sklearn import preprocessing as pp\n",
        "from sklearn.model_selection import train_test_split\n",
        "import scipy.sparse as sp"
      ]
    },
    {
      "cell_type": "code",
      "execution_count": 7,
      "metadata": {
        "id": "8AmkupCK1LjA"
      },
      "outputs": [],
      "source": [
        "import warnings\n",
        "warnings.filterwarnings(\"ignore\")"
      ]
    },
    {
      "cell_type": "markdown",
      "metadata": {
        "id": "647RVDjVyxHL"
      },
      "source": [
        "## Set up reproducibility settings"
      ]
    },
    {
      "cell_type": "code",
      "execution_count": 8,
      "metadata": {
        "colab": {
          "base_uri": "https://localhost:8080/"
        },
        "id": "FtYXIkT2ywTA",
        "outputId": "b8d44581-f9bc-4af8-fac7-f2f0e3e64022"
      },
      "outputs": [
        {
          "data": {
            "text/plain": [
              "<torch._C.Generator at 0x7e0e75d9bbb0>"
            ]
          },
          "execution_count": 8,
          "metadata": {},
          "output_type": "execute_result"
        }
      ],
      "source": [
        "SEED = 42\n",
        "\n",
        "random.seed(SEED)\n",
        "np.random.seed(SEED)\n",
        "torch.manual_seed(SEED)"
      ]
    },
    {
      "cell_type": "markdown",
      "metadata": {
        "id": "FPktCFL7u1J-"
      },
      "source": [
        "## Defining device for faster training"
      ]
    },
    {
      "cell_type": "code",
      "execution_count": 9,
      "metadata": {
        "colab": {
          "base_uri": "https://localhost:8080/"
        },
        "id": "b4pKT5jUt3pz",
        "outputId": "223ad04a-68f4-4829-cbe2-a0bc1525497b"
      },
      "outputs": [
        {
          "data": {
            "text/plain": [
              "device(type='cuda', index=0)"
            ]
          },
          "execution_count": 9,
          "metadata": {},
          "output_type": "execute_result"
        }
      ],
      "source": [
        "device = torch.device(\"cuda:0\" if torch.cuda.is_available() else \"cpu\")\n",
        "device"
      ]
    },
    {
      "cell_type": "markdown",
      "metadata": {
        "id": "eYnQc9UH07Fg"
      },
      "source": [
        "## Dataset and Preprocessing\n",
        "\n",
        "Reading the dataset"
      ]
    },
    {
      "cell_type": "code",
      "execution_count": 10,
      "metadata": {
        "colab": {
          "base_uri": "https://localhost:8080/",
          "height": 206
        },
        "id": "D13_omigmeOi",
        "outputId": "2d97c868-ddda-45c7-fd34-19f000c9b8c2"
      },
      "outputs": [
        {
          "data": {
            "text/html": [
              "\n",
              "  <div id=\"df-c97f85c4-af27-4df8-8f37-71bcbecfdd5b\" class=\"colab-df-container\">\n",
              "    <div>\n",
              "<style scoped>\n",
              "    .dataframe tbody tr th:only-of-type {\n",
              "        vertical-align: middle;\n",
              "    }\n",
              "\n",
              "    .dataframe tbody tr th {\n",
              "        vertical-align: top;\n",
              "    }\n",
              "\n",
              "    .dataframe thead th {\n",
              "        text-align: right;\n",
              "    }\n",
              "</style>\n",
              "<table border=\"1\" class=\"dataframe\">\n",
              "  <thead>\n",
              "    <tr style=\"text-align: right;\">\n",
              "      <th></th>\n",
              "      <th>user_id</th>\n",
              "      <th>item_id</th>\n",
              "      <th>rating</th>\n",
              "      <th>timestamp</th>\n",
              "    </tr>\n",
              "  </thead>\n",
              "  <tbody>\n",
              "    <tr>\n",
              "      <th>0</th>\n",
              "      <td>196</td>\n",
              "      <td>242</td>\n",
              "      <td>3</td>\n",
              "      <td>881250949</td>\n",
              "    </tr>\n",
              "    <tr>\n",
              "      <th>1</th>\n",
              "      <td>186</td>\n",
              "      <td>302</td>\n",
              "      <td>3</td>\n",
              "      <td>891717742</td>\n",
              "    </tr>\n",
              "    <tr>\n",
              "      <th>2</th>\n",
              "      <td>22</td>\n",
              "      <td>377</td>\n",
              "      <td>1</td>\n",
              "      <td>878887116</td>\n",
              "    </tr>\n",
              "    <tr>\n",
              "      <th>3</th>\n",
              "      <td>244</td>\n",
              "      <td>51</td>\n",
              "      <td>2</td>\n",
              "      <td>880606923</td>\n",
              "    </tr>\n",
              "    <tr>\n",
              "      <th>4</th>\n",
              "      <td>166</td>\n",
              "      <td>346</td>\n",
              "      <td>1</td>\n",
              "      <td>886397596</td>\n",
              "    </tr>\n",
              "  </tbody>\n",
              "</table>\n",
              "</div>\n",
              "    <div class=\"colab-df-buttons\">\n",
              "\n",
              "  <div class=\"colab-df-container\">\n",
              "    <button class=\"colab-df-convert\" onclick=\"convertToInteractive('df-c97f85c4-af27-4df8-8f37-71bcbecfdd5b')\"\n",
              "            title=\"Convert this dataframe to an interactive table.\"\n",
              "            style=\"display:none;\">\n",
              "\n",
              "  <svg xmlns=\"http://www.w3.org/2000/svg\" height=\"24px\" viewBox=\"0 -960 960 960\">\n",
              "    <path d=\"M120-120v-720h720v720H120Zm60-500h600v-160H180v160Zm220 220h160v-160H400v160Zm0 220h160v-160H400v160ZM180-400h160v-160H180v160Zm440 0h160v-160H620v160ZM180-180h160v-160H180v160Zm440 0h160v-160H620v160Z\"/>\n",
              "  </svg>\n",
              "    </button>\n",
              "\n",
              "  <style>\n",
              "    .colab-df-container {\n",
              "      display:flex;\n",
              "      gap: 12px;\n",
              "    }\n",
              "\n",
              "    .colab-df-convert {\n",
              "      background-color: #E8F0FE;\n",
              "      border: none;\n",
              "      border-radius: 50%;\n",
              "      cursor: pointer;\n",
              "      display: none;\n",
              "      fill: #1967D2;\n",
              "      height: 32px;\n",
              "      padding: 0 0 0 0;\n",
              "      width: 32px;\n",
              "    }\n",
              "\n",
              "    .colab-df-convert:hover {\n",
              "      background-color: #E2EBFA;\n",
              "      box-shadow: 0px 1px 2px rgba(60, 64, 67, 0.3), 0px 1px 3px 1px rgba(60, 64, 67, 0.15);\n",
              "      fill: #174EA6;\n",
              "    }\n",
              "\n",
              "    .colab-df-buttons div {\n",
              "      margin-bottom: 4px;\n",
              "    }\n",
              "\n",
              "    [theme=dark] .colab-df-convert {\n",
              "      background-color: #3B4455;\n",
              "      fill: #D2E3FC;\n",
              "    }\n",
              "\n",
              "    [theme=dark] .colab-df-convert:hover {\n",
              "      background-color: #434B5C;\n",
              "      box-shadow: 0px 1px 3px 1px rgba(0, 0, 0, 0.15);\n",
              "      filter: drop-shadow(0px 1px 2px rgba(0, 0, 0, 0.3));\n",
              "      fill: #FFFFFF;\n",
              "    }\n",
              "  </style>\n",
              "\n",
              "    <script>\n",
              "      const buttonEl =\n",
              "        document.querySelector('#df-c97f85c4-af27-4df8-8f37-71bcbecfdd5b button.colab-df-convert');\n",
              "      buttonEl.style.display =\n",
              "        google.colab.kernel.accessAllowed ? 'block' : 'none';\n",
              "\n",
              "      async function convertToInteractive(key) {\n",
              "        const element = document.querySelector('#df-c97f85c4-af27-4df8-8f37-71bcbecfdd5b');\n",
              "        const dataTable =\n",
              "          await google.colab.kernel.invokeFunction('convertToInteractive',\n",
              "                                                    [key], {});\n",
              "        if (!dataTable) return;\n",
              "\n",
              "        const docLinkHtml = 'Like what you see? Visit the ' +\n",
              "          '<a target=\"_blank\" href=https://colab.research.google.com/notebooks/data_table.ipynb>data table notebook</a>'\n",
              "          + ' to learn more about interactive tables.';\n",
              "        element.innerHTML = '';\n",
              "        dataTable['output_type'] = 'display_data';\n",
              "        await google.colab.output.renderOutput(dataTable, element);\n",
              "        const docLink = document.createElement('div');\n",
              "        docLink.innerHTML = docLinkHtml;\n",
              "        element.appendChild(docLink);\n",
              "      }\n",
              "    </script>\n",
              "  </div>\n",
              "\n",
              "\n",
              "<div id=\"df-c6e341b0-8490-4213-a7b3-1532b40297e5\">\n",
              "  <button class=\"colab-df-quickchart\" onclick=\"quickchart('df-c6e341b0-8490-4213-a7b3-1532b40297e5')\"\n",
              "            title=\"Suggest charts\"\n",
              "            style=\"display:none;\">\n",
              "\n",
              "<svg xmlns=\"http://www.w3.org/2000/svg\" height=\"24px\"viewBox=\"0 0 24 24\"\n",
              "     width=\"24px\">\n",
              "    <g>\n",
              "        <path d=\"M19 3H5c-1.1 0-2 .9-2 2v14c0 1.1.9 2 2 2h14c1.1 0 2-.9 2-2V5c0-1.1-.9-2-2-2zM9 17H7v-7h2v7zm4 0h-2V7h2v10zm4 0h-2v-4h2v4z\"/>\n",
              "    </g>\n",
              "</svg>\n",
              "  </button>\n",
              "\n",
              "<style>\n",
              "  .colab-df-quickchart {\n",
              "      --bg-color: #E8F0FE;\n",
              "      --fill-color: #1967D2;\n",
              "      --hover-bg-color: #E2EBFA;\n",
              "      --hover-fill-color: #174EA6;\n",
              "      --disabled-fill-color: #AAA;\n",
              "      --disabled-bg-color: #DDD;\n",
              "  }\n",
              "\n",
              "  [theme=dark] .colab-df-quickchart {\n",
              "      --bg-color: #3B4455;\n",
              "      --fill-color: #D2E3FC;\n",
              "      --hover-bg-color: #434B5C;\n",
              "      --hover-fill-color: #FFFFFF;\n",
              "      --disabled-bg-color: #3B4455;\n",
              "      --disabled-fill-color: #666;\n",
              "  }\n",
              "\n",
              "  .colab-df-quickchart {\n",
              "    background-color: var(--bg-color);\n",
              "    border: none;\n",
              "    border-radius: 50%;\n",
              "    cursor: pointer;\n",
              "    display: none;\n",
              "    fill: var(--fill-color);\n",
              "    height: 32px;\n",
              "    padding: 0;\n",
              "    width: 32px;\n",
              "  }\n",
              "\n",
              "  .colab-df-quickchart:hover {\n",
              "    background-color: var(--hover-bg-color);\n",
              "    box-shadow: 0 1px 2px rgba(60, 64, 67, 0.3), 0 1px 3px 1px rgba(60, 64, 67, 0.15);\n",
              "    fill: var(--button-hover-fill-color);\n",
              "  }\n",
              "\n",
              "  .colab-df-quickchart-complete:disabled,\n",
              "  .colab-df-quickchart-complete:disabled:hover {\n",
              "    background-color: var(--disabled-bg-color);\n",
              "    fill: var(--disabled-fill-color);\n",
              "    box-shadow: none;\n",
              "  }\n",
              "\n",
              "  .colab-df-spinner {\n",
              "    border: 2px solid var(--fill-color);\n",
              "    border-color: transparent;\n",
              "    border-bottom-color: var(--fill-color);\n",
              "    animation:\n",
              "      spin 1s steps(1) infinite;\n",
              "  }\n",
              "\n",
              "  @keyframes spin {\n",
              "    0% {\n",
              "      border-color: transparent;\n",
              "      border-bottom-color: var(--fill-color);\n",
              "      border-left-color: var(--fill-color);\n",
              "    }\n",
              "    20% {\n",
              "      border-color: transparent;\n",
              "      border-left-color: var(--fill-color);\n",
              "      border-top-color: var(--fill-color);\n",
              "    }\n",
              "    30% {\n",
              "      border-color: transparent;\n",
              "      border-left-color: var(--fill-color);\n",
              "      border-top-color: var(--fill-color);\n",
              "      border-right-color: var(--fill-color);\n",
              "    }\n",
              "    40% {\n",
              "      border-color: transparent;\n",
              "      border-right-color: var(--fill-color);\n",
              "      border-top-color: var(--fill-color);\n",
              "    }\n",
              "    60% {\n",
              "      border-color: transparent;\n",
              "      border-right-color: var(--fill-color);\n",
              "    }\n",
              "    80% {\n",
              "      border-color: transparent;\n",
              "      border-right-color: var(--fill-color);\n",
              "      border-bottom-color: var(--fill-color);\n",
              "    }\n",
              "    90% {\n",
              "      border-color: transparent;\n",
              "      border-bottom-color: var(--fill-color);\n",
              "    }\n",
              "  }\n",
              "</style>\n",
              "\n",
              "  <script>\n",
              "    async function quickchart(key) {\n",
              "      const quickchartButtonEl =\n",
              "        document.querySelector('#' + key + ' button');\n",
              "      quickchartButtonEl.disabled = true;  // To prevent multiple clicks.\n",
              "      quickchartButtonEl.classList.add('colab-df-spinner');\n",
              "      try {\n",
              "        const charts = await google.colab.kernel.invokeFunction(\n",
              "            'suggestCharts', [key], {});\n",
              "      } catch (error) {\n",
              "        console.error('Error during call to suggestCharts:', error);\n",
              "      }\n",
              "      quickchartButtonEl.classList.remove('colab-df-spinner');\n",
              "      quickchartButtonEl.classList.add('colab-df-quickchart-complete');\n",
              "    }\n",
              "    (() => {\n",
              "      let quickchartButtonEl =\n",
              "        document.querySelector('#df-c6e341b0-8490-4213-a7b3-1532b40297e5 button');\n",
              "      quickchartButtonEl.style.display =\n",
              "        google.colab.kernel.accessAllowed ? 'block' : 'none';\n",
              "    })();\n",
              "  </script>\n",
              "</div>\n",
              "    </div>\n",
              "  </div>\n"
            ],
            "text/plain": [
              "   user_id  item_id  rating  timestamp\n",
              "0      196      242       3  881250949\n",
              "1      186      302       3  891717742\n",
              "2       22      377       1  878887116\n",
              "3      244       51       2  880606923\n",
              "4      166      346       1  886397596"
            ]
          },
          "execution_count": 10,
          "metadata": {},
          "output_type": "execute_result"
        }
      ],
      "source": [
        "columns_name=['user_id','item_id','rating','timestamp']\n",
        "df = pd.read_csv(\"ml-100k/u.data\", sep=\"\\t\", names=columns_name)\n",
        "df.head()"
      ]
    },
    {
      "cell_type": "markdown",
      "metadata": {
        "id": "BzX3-JClrcCx"
      },
      "source": [
        "Using only high ratings as interactions in order to predict which movies a user will enjoy watching next."
      ]
    },
    {
      "cell_type": "code",
      "execution_count": 11,
      "metadata": {
        "colab": {
          "base_uri": "https://localhost:8080/"
        },
        "id": "j0vvQB9Kmea7",
        "outputId": "ef1fb314-d00e-4f53-c896-80581accbc21"
      },
      "outputs": [
        {
          "name": "stdout",
          "output_type": "stream",
          "text": [
            "82520\n"
          ]
        }
      ],
      "source": [
        "df = df[df['rating']>=3]\n",
        "print(len(df))"
      ]
    },
    {
      "cell_type": "markdown",
      "metadata": {
        "id": "AxTE6H53vfyp"
      },
      "source": [
        "Splitting the dataset to train and test"
      ]
    },
    {
      "cell_type": "code",
      "execution_count": 12,
      "metadata": {
        "id": "SWwvL8JOmrT4"
      },
      "outputs": [],
      "source": [
        "train, test = train_test_split(df.values, test_size=0.2, random_state=SEED)\n",
        "train_df = pd.DataFrame(train, columns=df.columns)\n",
        "test_df = pd.DataFrame(test, columns=df.columns)"
      ]
    },
    {
      "cell_type": "markdown",
      "metadata": {
        "id": "g0bHVYGjrTcL"
      },
      "source": [
        "Relabeling users and movies ids to ensure they are continuous"
      ]
    },
    {
      "cell_type": "code",
      "execution_count": 13,
      "metadata": {
        "id": "QXi90opJmriQ"
      },
      "outputs": [],
      "source": [
        "le_user = pp.LabelEncoder()\n",
        "le_item = pp.LabelEncoder()\n",
        "train_df['user_id_idx'] = le_user.fit_transform(train_df['user_id'].values)\n",
        "train_df['item_id_idx'] = le_item.fit_transform(train_df['item_id'].values)"
      ]
    },
    {
      "cell_type": "markdown",
      "metadata": {
        "id": "f03Tg379vuZ2"
      },
      "source": [
        "Leaving only those ids that are present in the train set and transforming them in the same way"
      ]
    },
    {
      "cell_type": "code",
      "execution_count": 14,
      "metadata": {
        "id": "KtRmOkoDmem_"
      },
      "outputs": [],
      "source": [
        "train_user_ids = train_df['user_id'].unique()\n",
        "train_item_ids = train_df['item_id'].unique()\n",
        "\n",
        "test_df = test_df[\n",
        "    (test_df['user_id'].isin(train_user_ids)) & \\\n",
        "    (test_df['item_id'].isin(train_item_ids))\n",
        "]\n",
        "\n",
        "test_df['user_id_idx'] = le_user.transform(test_df['user_id'].values)\n",
        "test_df['item_id_idx'] = le_item.transform(test_df['item_id'].values)"
      ]
    },
    {
      "cell_type": "markdown",
      "metadata": {
        "id": "UTCbndnGv4IZ"
      },
      "source": [
        "Printing resulting statistics"
      ]
    },
    {
      "cell_type": "code",
      "execution_count": 15,
      "metadata": {
        "colab": {
          "base_uri": "https://localhost:8080/"
        },
        "id": "-WOF-cOAm5iO",
        "outputId": "33518c7f-3944-465a-d4f1-2ce5a2e0e543"
      },
      "outputs": [
        {
          "name": "stdout",
          "output_type": "stream",
          "text": [
            "Number of Unique Users :  943\n",
            "Number of unique Items :  1547\n"
          ]
        }
      ],
      "source": [
        "n_users = train_df['user_id_idx'].nunique()\n",
        "n_items = train_df['item_id_idx'].nunique()\n",
        "print(\"Number of Unique Users : \", n_users)\n",
        "print(\"Number of unique Items : \", n_items)"
      ]
    },
    {
      "cell_type": "markdown",
      "metadata": {
        "id": "XNoblY5kxlv_"
      },
      "source": [
        "### Minibatch Sampling\n",
        "\n",
        "Creating and testing a function for minibatch sampling"
      ]
    },
    {
      "cell_type": "code",
      "execution_count": 16,
      "metadata": {
        "colab": {
          "base_uri": "https://localhost:8080/"
        },
        "id": "NQRGy-CJnOkg",
        "outputId": "dc518a5a-0980-494d-a1e5-ee6484f12166"
      },
      "outputs": [
        {
          "data": {
            "text/plain": [
              "(tensor([ 25,  89, 104, 114, 142, 228, 250, 281, 558, 604, 654, 692, 754, 758,\n",
              "         759, 913], device='cuda:0'),\n",
              " tensor([ 943, 1163, 1255, 1125, 1963, 1187, 1346, 1211, 1524, 1298, 2090, 1595,\n",
              "         1243, 1123, 1053, 1322], device='cuda:0'),\n",
              " tensor([2149, 1512,  956, 1269, 2372, 1808, 1639, 1512, 1261, 1383, 1632, 1132,\n",
              "         1721, 1141, 1678, 1647], device='cuda:0'))"
            ]
          },
          "execution_count": 16,
          "metadata": {},
          "output_type": "execute_result"
        }
      ],
      "source": [
        "def data_loader(data, batch_size, n_usr, n_itm):\n",
        "\n",
        "    def sample_neg(x):\n",
        "        while True:\n",
        "            neg_id = random.randint(0, n_itm - 1)\n",
        "            if neg_id not in x:\n",
        "                return neg_id\n",
        "\n",
        "    interected_items_df = data.groupby('user_id_idx')['item_id_idx'].apply(list).reset_index()\n",
        "    indices = [x for x in range(n_usr)]\n",
        "\n",
        "    if n_usr < batch_size:\n",
        "        users = [random.choice(indices) for _ in range(batch_size)]\n",
        "    else:\n",
        "        users = random.sample(indices, batch_size)\n",
        "\n",
        "    users.sort()\n",
        "    users_df = pd.DataFrame(users, columns = ['users'])\n",
        "\n",
        "    interected_items_df = pd.merge(interected_items_df, users_df, how = 'right', left_on = 'user_id_idx', right_on = 'users')\n",
        "    pos_items = interected_items_df['item_id_idx'].apply(lambda x : random.choice(x)).values\n",
        "    neg_items = interected_items_df['item_id_idx'].apply(lambda x: sample_neg(x)).values\n",
        "\n",
        "    return (\n",
        "        torch.LongTensor(list(users)).to(device),\n",
        "        torch.LongTensor(list(pos_items)).to(device) + n_usr,\n",
        "        torch.LongTensor(list(neg_items)).to(device) + n_usr\n",
        "    )\n",
        "\n",
        "data_loader(train_df, 16, n_users, n_items)"
      ]
    },
    {
      "cell_type": "markdown",
      "metadata": {
        "id": "vjHZg1Eu-MKs"
      },
      "source": [
        "## Edge Index\n",
        "\n",
        "Including each edge twice to simulate undirected graph and changing the distribution of items ids so that each id is unique"
      ]
    },
    {
      "cell_type": "code",
      "execution_count": 17,
      "metadata": {
        "colab": {
          "base_uri": "https://localhost:8080/"
        },
        "id": "O3BkGyV9pkce",
        "outputId": "ca120ec9-c9ed-4ddb-8294-7127f60d1e62"
      },
      "outputs": [
        {
          "data": {
            "text/plain": [
              "tensor([[ 108,  435,  863,  ..., 1242, 1380, 1542],\n",
              "        [1099, 1490, 1499,  ...,  811,  187,  298]], device='cuda:0')"
            ]
          },
          "execution_count": 17,
          "metadata": {},
          "output_type": "execute_result"
        }
      ],
      "source": [
        "u_t = torch.LongTensor(train_df.user_id_idx)\n",
        "i_t = torch.LongTensor(train_df.item_id_idx) + n_users\n",
        "\n",
        "train_edge_index = torch.stack((\n",
        "    torch.cat([u_t, i_t]),\n",
        "    torch.cat([i_t, u_t])\n",
        ")).to(device)\n",
        "\n",
        "train_edge_index"
      ]
    },
    {
      "cell_type": "markdown",
      "metadata": {
        "id": "_RxDUYJ2sXJe"
      },
      "source": [
        "Let's confirm that the first and last edges match the middle two edges, but with the order of nodes swapped."
      ]
    },
    {
      "cell_type": "code",
      "execution_count": 18,
      "metadata": {
        "id": "Mq4NVs0_nOxh"
      },
      "outputs": [],
      "source": [
        "assert train_edge_index[:,-1].cpu().numpy()[::-1].all() == train_edge_index[:, len(train)-1].cpu().numpy().all()\n",
        "assert train_edge_index[:, 0].cpu().numpy()[::-1].all() == train_edge_index[:, len(train)].cpu().numpy().all()"
      ]
    },
    {
      "cell_type": "markdown",
      "metadata": {
        "id": "2ys1P7mtcr54"
      },
      "source": [
        "## Model Architecture"
      ]
    },
    {
      "cell_type": "markdown",
      "metadata": {
        "id": "49WD8SryyUds"
      },
      "source": [
        "### LightGCN Convolutional Layer\n",
        "\n",
        "Creating a class for a single LightGCN convolutional layer"
      ]
    },
    {
      "cell_type": "code",
      "execution_count": 19,
      "metadata": {
        "id": "-aTMoHisNIh_"
      },
      "outputs": [],
      "source": [
        "class LightGCNConv(MessagePassing):\n",
        "    \"\"\"\n",
        "    LightGCNConv: Graph Convolutional Layer for LightGCN Model.\n",
        "\n",
        "    Parameters:\n",
        "        aggr (str): Aggregation method for message passing. Default is 'add'.\n",
        "    \"\"\"\n",
        "\n",
        "    def __init__(self, aggr='add'):\n",
        "        super().__init__(aggr=aggr)\n",
        "\n",
        "    def forward(self, x, edge_index):\n",
        "        \"\"\"\n",
        "        Forward pass for LightGCNConv.\n",
        "\n",
        "        Args:\n",
        "            x (torch.Tensor): Input node features.\n",
        "            edge_index (torch.Tensor): Graph edge indices.\n",
        "\n",
        "        Returns:\n",
        "            torch.Tensor: Output tensor after message passing.\n",
        "        \"\"\"\n",
        "        # Compute normalization\n",
        "        from_, to_ = edge_index\n",
        "        deg = degree(to_, x.size(0), dtype=x.dtype)\n",
        "        deg_inv_sqrt = deg.pow(-0.5)\n",
        "        deg_inv_sqrt[deg_inv_sqrt == float('inf')] = 0\n",
        "        norm = deg_inv_sqrt[from_] * deg_inv_sqrt[to_]\n",
        "\n",
        "        # Start propagating messages (no update after aggregation)\n",
        "        return self.propagate(edge_index, x=x, norm=norm)\n",
        "\n",
        "    def message(self, x_j, norm):\n",
        "        \"\"\"\n",
        "        Message function for LightGCNConv.\n",
        "\n",
        "        Args:\n",
        "            x_j (torch.Tensor): Input tensor from neighboring nodes.\n",
        "            norm (torch.Tensor): Normalization tensor.\n",
        "\n",
        "        Returns:\n",
        "            torch.Tensor: Scaled input tensor for aggregation.\n",
        "        \"\"\"\n",
        "        return norm.view(-1, 1) * x_j"
      ]
    },
    {
      "cell_type": "markdown",
      "metadata": {
        "id": "I2tW9FJFqNjn"
      },
      "source": [
        "### Recommender System GNN\n",
        "\n",
        "Creating a wrapper class for LightGCN"
      ]
    },
    {
      "cell_type": "code",
      "execution_count": 20,
      "metadata": {
        "id": "nT5LTkI8Ml1c"
      },
      "outputs": [],
      "source": [
        "class RecSysGNN(nn.Module):\n",
        "    def __init__(self, latent_dim, num_layers, num_users, num_items):\n",
        "        \"\"\"\n",
        "        Constructor for RecSysGNN.\n",
        "\n",
        "        Args:\n",
        "            latent_dim (int): Dimension of the latent embeddings.\n",
        "            num_layers (int): Number of graph convolution layers.\n",
        "            num_users (int): Number of unique user IDs.\n",
        "            num_items (int): Number of unique item IDs.\n",
        "        \"\"\"\n",
        "        super(RecSysGNN, self).__init__()\n",
        "        self.embedding = nn.Embedding(num_users + num_items, latent_dim)\n",
        "        self.convs = nn.ModuleList(LightGCNConv() for _ in range(num_layers))\n",
        "        self.init_parameters()\n",
        "\n",
        "    def init_parameters(self):\n",
        "        \"\"\"\n",
        "        Initialize model parameters.\n",
        "\n",
        "        Authors of LightGCN report higher results with normal initialization.\n",
        "        \"\"\"\n",
        "        nn.init.normal_(self.embedding.weight, std=0.1)\n",
        "\n",
        "    def forward(self, edge_index):\n",
        "        \"\"\"\n",
        "        Forward pass for RecSysGNN.\n",
        "\n",
        "        Args:\n",
        "            edge_index (torch.Tensor): Graph edge indices.\n",
        "\n",
        "        Returns:\n",
        "            tuple: Tuple containing original embeddings and final output.\n",
        "        \"\"\"\n",
        "        emb0 = self.embedding.weight\n",
        "        embs = [emb0]\n",
        "\n",
        "        emb = emb0\n",
        "        for conv in self.convs:\n",
        "            emb = conv(x=emb, edge_index=edge_index)\n",
        "            embs.append(emb)\n",
        "\n",
        "        out = torch.mean(torch.stack(embs, dim=0), dim=0)\n",
        "\n",
        "        return emb0, out\n",
        "\n",
        "    def encode_minibatch(self, users, pos_items, neg_items, edge_index):\n",
        "        \"\"\"\n",
        "        Encode a minibatch for training.\n",
        "\n",
        "        Args:\n",
        "            users (torch.Tensor): User indices.\n",
        "            pos_items (torch.Tensor): Positive item indices.\n",
        "            neg_items (torch.Tensor): Negative item indices.\n",
        "            edge_index (torch.Tensor): Graph edge indices.\n",
        "\n",
        "        Returns:\n",
        "            tuple: Tuple containing embeddings for users, positive items, negative items,\n",
        "            original embeddings for users, positive items, negative items.\n",
        "        \"\"\"\n",
        "        emb0, out = self(edge_index)\n",
        "        return (\n",
        "            out[users],\n",
        "            out[pos_items],\n",
        "            out[neg_items],\n",
        "            emb0[users],\n",
        "            emb0[pos_items],\n",
        "            emb0[neg_items]\n",
        "        )"
      ]
    },
    {
      "cell_type": "markdown",
      "metadata": {
        "id": "dyqEQ6kfCY5V"
      },
      "source": [
        "## Loss function and metrics\n",
        "\n",
        "Implementing BPR, precision@K, recall@K, NDCG@K & MAP@K"
      ]
    },
    {
      "cell_type": "code",
      "execution_count": 21,
      "metadata": {
        "id": "bwrPmvXPow5q"
      },
      "outputs": [],
      "source": [
        "def compute_bpr_loss(users, users_emb, pos_emb, neg_emb, user_emb0, pos_emb0, neg_emb0):\n",
        "    \"\"\"\n",
        "    Compute BPR loss and regularization loss.\n",
        "\n",
        "    Args:\n",
        "        users (torch.Tensor): User indices.\n",
        "        users_emb (torch.Tensor): User embeddings.\n",
        "        pos_emb (torch.Tensor): Positive item embeddings.\n",
        "        neg_emb (torch.Tensor): Negative item embeddings.\n",
        "        user_emb0 (torch.Tensor): Original user embeddings.\n",
        "        pos_emb0 (torch.Tensor): Original positive item embeddings.\n",
        "        neg_emb0 (torch.Tensor): Original negative item embeddings.\n",
        "\n",
        "    Returns:\n",
        "        tuple: Tuple containing BPR loss and regularization loss.\n",
        "    \"\"\"\n",
        "    # Compute regularization loss from initial embeddings\n",
        "    reg_loss = (1 / 2) * (\n",
        "        user_emb0.norm().pow(2) +\n",
        "        pos_emb0.norm().pow(2) +\n",
        "        neg_emb0.norm().pow(2)\n",
        "    ) / float(len(users))\n",
        "\n",
        "    # Compute BPR loss from user, positive item, and negative item embeddings\n",
        "    pos_scores = torch.mul(users_emb, pos_emb).sum(dim=1)\n",
        "    neg_scores = torch.mul(users_emb, neg_emb).sum(dim=1)\n",
        "\n",
        "    bpr_loss = torch.mean(F.softplus(neg_scores - pos_scores))\n",
        "\n",
        "    return bpr_loss, reg_loss"
      ]
    },
    {
      "cell_type": "code",
      "execution_count": 22,
      "metadata": {
        "id": "52FbYNNWsWQP"
      },
      "outputs": [],
      "source": [
        "def convert_to_sparse_tensor(dok_mtrx):\n",
        "    \"\"\"\n",
        "    Convert a scipy.sparse matrix to a sparse PyTorch tensor.\n",
        "\n",
        "    Args:\n",
        "        dok_mtrx (scipy.sparse.dok_matrix): Input sparse matrix in DOK format.\n",
        "\n",
        "    Returns:\n",
        "        torch.sparse.FloatTensor: Sparse PyTorch tensor.\n",
        "    \"\"\"\n",
        "    # Convert DOK matrix to COO format and cast to float32\n",
        "    dok_mtrx_coo = dok_mtrx.tocoo().astype(np.float32)\n",
        "\n",
        "    # Extract values and indices\n",
        "    values = dok_mtrx_coo.data\n",
        "    indices = np.vstack((dok_mtrx_coo.row, dok_mtrx_coo.col))\n",
        "\n",
        "    # Convert indices and values to PyTorch tensors\n",
        "    i = torch.LongTensor(indices)\n",
        "    v = torch.FloatTensor(values)\n",
        "\n",
        "    # Get the shape of the sparse tensor\n",
        "    shape = dok_mtrx_coo.shape\n",
        "\n",
        "    # Create the sparse PyTorch tensor\n",
        "    dok_mtrx_sparse_tensor = torch.sparse.FloatTensor(i, v, torch.Size(shape))\n",
        "\n",
        "    return dok_mtrx_sparse_tensor"
      ]
    },
    {
      "cell_type": "code",
      "execution_count": 23,
      "metadata": {
        "id": "chavFCgOrUqk"
      },
      "outputs": [],
      "source": [
        "def get_metrics(user_Embed_wts, item_Embed_wts, n_users, n_items, train_data, test_data, K):\n",
        "    \"\"\"\n",
        "    Compute recall and precision metrics for the recommendation model.\n",
        "\n",
        "    Parameters:\n",
        "        user_Embed_wts (torch.Tensor): User embedding weights.\n",
        "        item_Embed_wts (torch.Tensor): Item embedding weights.\n",
        "        n_users (int): Number of unique users.\n",
        "        n_items (int): Number of unique items.\n",
        "        train_data (pd.DataFrame): Training data.\n",
        "        test_data (pd.DataFrame): Test data.\n",
        "        K (int): Top-K recommendations.\n",
        "\n",
        "    Returns:\n",
        "        float: Mean recall value.\n",
        "        float: Mean precision value.\n",
        "    \"\"\"\n",
        "\n",
        "    # Initialize user and item embeddings using provided weights\n",
        "    user_Embedding = nn.Embedding(user_Embed_wts.size()[0], user_Embed_wts.size()[1], _weight=user_Embed_wts)\n",
        "    item_Embedding = nn.Embedding(item_Embed_wts.size()[0], item_Embed_wts.size()[1], _weight=item_Embed_wts)\n",
        "\n",
        "    # Extract unique user IDs from the test data\n",
        "    test_user_ids = torch.LongTensor(test_data['user_id_idx'].unique())\n",
        "\n",
        "    # Compute relevance scores using matrix multiplication\n",
        "    relevance_score = torch.matmul(user_Embed_wts, torch.transpose(item_Embed_wts, 0, 1))\n",
        "\n",
        "    # Create a sparse matrix R based on training data interactions\n",
        "    R = sp.dok_matrix((n_users, n_items), dtype=np.float32)\n",
        "    R[train_data['user_id_idx'], train_data['item_id_idx']] = 1.0\n",
        "\n",
        "    # Convert sparse matrix R to a sparse PyTorch tensor\n",
        "    R_tensor = convert_to_sparse_tensor(R)\n",
        "    R_tensor_dense = R_tensor.to_dense()\n",
        "\n",
        "    # Set interactions in R_tensor_dense to negative infinity\n",
        "    R_tensor_dense = R_tensor_dense * (-np.inf)\n",
        "    R_tensor_dense = torch.nan_to_num(R_tensor_dense, nan=0.0).to(device)\n",
        "\n",
        "    # Add R_tensor_dense to relevance scores\n",
        "    relevance_score = relevance_score + R_tensor_dense\n",
        "\n",
        "    # Get top-K relevance scores and indices\n",
        "    topk_relevance_score = torch.topk(relevance_score, K).values\n",
        "    topk_relevance_indices = torch.topk(relevance_score, K).indices\n",
        "\n",
        "    # Create a DataFrame for top-K relevance indices\n",
        "    topk_relevance_indices_df = pd.DataFrame(topk_relevance_indices.cpu().numpy(),\n",
        "                                              columns=['top_indx_' + str(x + 1) for x in range(K)])\n",
        "\n",
        "    topk_relevance_indices_df['user_ID'] = topk_relevance_indices_df.index\n",
        "\n",
        "    # Create a column with top-K relevant items\n",
        "    topk_relevance_indices_df['top_rlvnt_itm'] = topk_relevance_indices_df[\n",
        "        ['top_indx_' + str(x + 1) for x in range(K)]].values.tolist()\n",
        "    topk_relevance_indices_df = topk_relevance_indices_df[['user_ID', 'top_rlvnt_itm']]\n",
        "\n",
        "    # Group test data by user ID and extract lists of interacted items\n",
        "    test_interacted_items = test_data.groupby('user_id_idx')['item_id_idx'].apply(list).reset_index()\n",
        "\n",
        "    # Merge top-K relevance indices with test interacted items\n",
        "    metrics_df = pd.merge(test_interacted_items, topk_relevance_indices_df, how='left', left_on='user_id_idx',\n",
        "                          right_on=['user_ID'])\n",
        "    metrics_df['intrsctn_itm'] = [list(set(a).intersection(b)) for a, b in\n",
        "                                  zip(metrics_df.item_id_idx, metrics_df.top_rlvnt_itm)]\n",
        "\n",
        "    # Compute recall and precision\n",
        "    metrics_df['recall'] = metrics_df.apply(lambda x: len(x['intrsctn_itm']) / len(x['item_id_idx']), axis=1)\n",
        "    metrics_df['precision'] = metrics_df.apply(lambda x: len(x['intrsctn_itm']) / K, axis=1)\n",
        "\n",
        "    # Return mean values of recall, precision, nDCG, and MAP\n",
        "    return metrics_df['recall'].mean(), metrics_df['precision'].mean()"
      ]
    },
    {
      "cell_type": "markdown",
      "metadata": {
        "id": "_qOC3fF9m6cH"
      },
      "source": [
        "## Train and evaluate models"
      ]
    },
    {
      "cell_type": "code",
      "execution_count": 24,
      "metadata": {
        "id": "MZtgfxxIm5nL"
      },
      "outputs": [],
      "source": [
        "latent_dim = 256\n",
        "n_layers = 4\n",
        "\n",
        "EPOCHS = 50\n",
        "BATCH_SIZE = 1024\n",
        "DECAY = 0.0001\n",
        "LR = 0.005\n",
        "K = 20"
      ]
    },
    {
      "cell_type": "code",
      "execution_count": 25,
      "metadata": {
        "id": "B5HB_FX5pdgv"
      },
      "outputs": [],
      "source": [
        "def train_and_eval(model, optimizer, train_df):\n",
        "    \"\"\"\n",
        "    Train the model and evaluate its performance over multiple epochs.\n",
        "\n",
        "    Args:\n",
        "        model (RecSysGNN): The recommendation system GNN model.\n",
        "        optimizer (torch.optim.Optimizer): The optimizer for training the model.\n",
        "        train_df (pd.DataFrame): Training data.\n",
        "        test_df (pd.DataFrame): Test data.\n",
        "        train_edge_index (torch.Tensor): Edge index for training.\n",
        "        n_users (int): Number of unique users.\n",
        "        n_items (int): Number of unique items.\n",
        "        K (int): Top-K recommendations.\n",
        "\n",
        "    Returns:\n",
        "        tuple: Tuple containing lists of loss values, recall, and precision.\n",
        "    \"\"\"\n",
        "    # Lists to store metrics across epochs\n",
        "    loss_list_epoch = []\n",
        "    bpr_loss_list_epoch = []\n",
        "    reg_loss_list_epoch = []\n",
        "    recall_list = []\n",
        "    precision_list = []\n",
        "\n",
        "    # Training loop over epochs\n",
        "    for epoch in tqdm(range(EPOCHS)):\n",
        "        n_batch = int(len(train_df) / BATCH_SIZE)\n",
        "\n",
        "        final_loss_list = []\n",
        "        bpr_loss_list = []\n",
        "        reg_loss_list = []\n",
        "\n",
        "        # Set the model to training mode\n",
        "        model.train()\n",
        "\n",
        "        # Batch-wise training loop\n",
        "        for batch_idx in range(n_batch):\n",
        "            optimizer.zero_grad()\n",
        "\n",
        "            # Generate a minibatch of data\n",
        "            users, pos_items, neg_items = data_loader(train_df, BATCH_SIZE, n_users, n_items)\n",
        "            users_emb, pos_emb, neg_emb, userEmb0, posEmb0, negEmb0 = model.encode_minibatch(users, pos_items, neg_items, train_edge_index)\n",
        "\n",
        "            # Compute BPR loss and regularization loss\n",
        "            bpr_loss, reg_loss = compute_bpr_loss(\n",
        "                users, users_emb, pos_emb, neg_emb, userEmb0, posEmb0, negEmb0\n",
        "            )\n",
        "            reg_loss = DECAY * reg_loss\n",
        "            final_loss = bpr_loss + reg_loss\n",
        "\n",
        "            # Backward pass and optimization step\n",
        "            final_loss.backward()\n",
        "            optimizer.step()\n",
        "\n",
        "            # Append loss values to lists\n",
        "            final_loss_list.append(final_loss.item())\n",
        "            bpr_loss_list.append(bpr_loss.item())\n",
        "            reg_loss_list.append(reg_loss.item())\n",
        "\n",
        "        # Evaluation on test set after each epoch\n",
        "        model.eval()\n",
        "        with torch.no_grad():\n",
        "            _, out = model(train_edge_index)\n",
        "            final_user_Embed, final_item_Embed = torch.split(out, (n_users, n_items))\n",
        "            test_topK_recall, test_topK_precision = get_metrics(\n",
        "                final_user_Embed, final_item_Embed, n_users, n_items, train_df, test_df, K\n",
        "            )\n",
        "\n",
        "        # Append metrics to corresponding lists\n",
        "        loss_list_epoch.append(round(np.mean(final_loss_list), 4))\n",
        "        bpr_loss_list_epoch.append(round(np.mean(bpr_loss_list), 4))\n",
        "        reg_loss_list_epoch.append(round(np.mean(reg_loss_list), 4))\n",
        "        recall_list.append(round(test_topK_recall, 4))\n",
        "        precision_list.append(round(test_topK_precision, 4))\n",
        "\n",
        "    # Return a tuple containing lists of metrics\n",
        "    return (\n",
        "        loss_list_epoch,\n",
        "        bpr_loss_list_epoch,\n",
        "        reg_loss_list_epoch,\n",
        "        recall_list,\n",
        "        precision_list\n",
        "    )"
      ]
    },
    {
      "cell_type": "markdown",
      "metadata": {
        "id": "Z4xJSiBiznki"
      },
      "source": [
        "### Train LightGCN"
      ]
    },
    {
      "cell_type": "code",
      "execution_count": 26,
      "metadata": {
        "colab": {
          "base_uri": "https://localhost:8080/"
        },
        "id": "eKBv9eXongux",
        "outputId": "e32272c5-04c5-445f-f994-9fd580e15249"
      },
      "outputs": [
        {
          "name": "stdout",
          "output_type": "stream",
          "text": [
            "Size of Learnable Embedding :  [torch.Size([2490, 256])]\n"
          ]
        }
      ],
      "source": [
        "# Instantiate the RecSysGNN model\n",
        "lightgcn = RecSysGNN(\n",
        "    latent_dim=latent_dim,\n",
        "    num_layers=n_layers,\n",
        "    num_users=n_users,\n",
        "    num_items=n_items,\n",
        ").to(device)\n",
        "\n",
        "# Initialize the Adam optimizer for training the model\n",
        "optimizer = torch.optim.Adam(lightgcn.parameters(), lr=LR)\n",
        "\n",
        "# Print the size of learnable parameters in the model\n",
        "print(\"Size of Learnable Embedding : \", [x.shape for x in lightgcn.parameters()])"
      ]
    },
    {
      "cell_type": "code",
      "execution_count": 27,
      "metadata": {
        "colab": {
          "base_uri": "https://localhost:8080/",
          "height": 49,
          "referenced_widgets": [
            "154024485ff44326bf2b63491f388cfc",
            "1bb9674dbe7b4e459317cb49c1e9e0d0",
            "8ac87b479903410980943192600bd91c",
            "fede71b443314c9793c8ba25d58923f8",
            "592527baf34b4d85bc4c027edc1afa4e",
            "1cee8464ed7845cd859a965d84b36f6e",
            "48172645e6f64dafa76e9bc8a5b7875f",
            "ff794dc658f14f2cb358fc068fd1e531",
            "4943aae13bfd47ac9e354642cbd6d287",
            "8fd2494aff48469da725bc0b9534315d",
            "bf2f9f8a3d8543e382e015f6674ff2c5"
          ]
        },
        "id": "iXfsuJlcy3FT",
        "outputId": "1ac6bf35-0510-415d-d475-9e76cf1b8b15"
      },
      "outputs": [
        {
          "data": {
            "application/vnd.jupyter.widget-view+json": {
              "model_id": "154024485ff44326bf2b63491f388cfc",
              "version_major": 2,
              "version_minor": 0
            },
            "text/plain": [
              "  0%|          | 0/50 [00:00<?, ?it/s]"
            ]
          },
          "metadata": {},
          "output_type": "display_data"
        }
      ],
      "source": [
        "light_loss, light_bpr, light_reg, light_recall, light_precision = train_and_eval(lightgcn, optimizer, train_df)"
      ]
    },
    {
      "cell_type": "code",
      "execution_count": 28,
      "metadata": {
        "id": "vCOJY4XST38b"
      },
      "outputs": [],
      "source": [
        "epoch_list = [(i+1) for i in range(EPOCHS)]"
      ]
    },
    {
      "cell_type": "markdown",
      "metadata": {
        "id": "KggB-h1o1O6G"
      },
      "source": [
        "## Plotting training graphs information"
      ]
    },
    {
      "cell_type": "code",
      "execution_count": 29,
      "metadata": {
        "colab": {
          "base_uri": "https://localhost:8080/",
          "height": 449
        },
        "id": "Z5P2Zf6yT4Uu",
        "outputId": "be3ccf63-3280-40f5-a1cf-ab028ffc6cfe"
      },
      "outputs": [
        {
          "data": {
            "image/png": "[encoded data removed]",
            "text/plain": [
              "<Figure size 640x480 with 1 Axes>"
            ]
          },
          "metadata": {},
          "output_type": "display_data"
        }
      ],
      "source": [
        "plt.plot(epoch_list, light_loss, label='Total Training Loss')\n",
        "plt.plot(epoch_list, light_bpr, label='BPR Training Loss')\n",
        "plt.plot(epoch_list, light_reg, label='Reg Training Loss')\n",
        "\n",
        "plt.xlabel('Epoch')\n",
        "plt.ylabel('Loss')\n",
        "plt.legend()\n",
        "plt.savefig(TRAIN_PATH_1, bbox_inches=\"tight\")"
      ]
    },
    {
      "cell_type": "code",
      "execution_count": 30,
      "metadata": {
        "colab": {
          "base_uri": "https://localhost:8080/",
          "height": 449
        },
        "id": "I1Quk5mahJ1n",
        "outputId": "95d086bc-8e97-4909-925b-12ebdb2c6a37"
      },
      "outputs": [
        {
          "data": {
            "image/png": "[encoded data removed]",
            "text/plain": [
              "<Figure size 640x480 with 1 Axes>"
            ]
          },
          "metadata": {},
          "output_type": "display_data"
        }
      ],
      "source": [
        "plt.plot(epoch_list, light_recall, label='Recall')\n",
        "plt.plot(epoch_list, light_precision, label='Precision')\n",
        "\n",
        "plt.xlabel('Epoch')\n",
        "plt.ylabel('Metrics')\n",
        "plt.legend()\n",
        "plt.savefig(TRAIN_PATH_2, bbox_inches=\"tight\")"
      ]
    },
    {
      "cell_type": "markdown",
      "metadata": {
        "id": "5EkZfygAmJaY"
      },
      "source": [
        "# Saving the model"
      ]
    },
    {
      "cell_type": "code",
      "execution_count": 31,
      "metadata": {
        "id": "VYlDqs0l4Y2Q"
      },
      "outputs": [],
      "source": [
        "torch.save(lightgcn.state_dict(), SAVE_PATH)"
      ]
    },
    {
      "cell_type": "markdown",
      "metadata": {
        "id": "TessQlcEluyh"
      },
      "source": [
        "# Cleaning up the directory"
      ]
    },
    {
      "cell_type": "code",
      "execution_count": 32,
      "metadata": {
        "id": "7YqFy33al1Ld"
      },
      "outputs": [],
      "source": [
        "!rm -rf ml-100k.zip\n",
        "!rm -rf ml-100k"
      ]
    }
  ],
  "metadata": {
    "accelerator": "GPU",
    "colab": {
      "gpuType": "T4",
      "provenance": []
    },
    "kernelspec": {
      "display_name": "Python 3",
      "name": "python3"
    },
    "language_info": {
      "name": "python"
    },
    "widgets": {
      "application/vnd.jupyter.widget-state+json": {
        "154024485ff44326bf2b63491f388cfc": {
          "model_module": "@jupyter-widgets/controls",
          "model_module_version": "1.5.0",
          "model_name": "HBoxModel",
          "state": {
            "_dom_classes": [],
            "_model_module": "@jupyter-widgets/controls",
            "_model_module_version": "1.5.0",
            "_model_name": "HBoxModel",
            "_view_count": null,
            "_view_module": "@jupyter-widgets/controls",
            "_view_module_version": "1.5.0",
            "_view_name": "HBoxView",
            "box_style": "",
            "children": [
              "IPY_MODEL_1bb9674dbe7b4e459317cb49c1e9e0d0",
              "IPY_MODEL_8ac87b479903410980943192600bd91c",
              "IPY_MODEL_fede71b443314c9793c8ba25d58923f8"
            ],
            "layout": "IPY_MODEL_592527baf34b4d85bc4c027edc1afa4e"
          }
        },
        "1bb9674dbe7b4e459317cb49c1e9e0d0": {
          "model_module": "@jupyter-widgets/controls",
          "model_module_version": "1.5.0",
          "model_name": "HTMLModel",
          "state": {
            "_dom_classes": [],
            "_model_module": "@jupyter-widgets/controls",
            "_model_module_version": "1.5.0",
            "_model_name": "HTMLModel",
            "_view_count": null,
            "_view_module": "@jupyter-widgets/controls",
            "_view_module_version": "1.5.0",
            "_view_name": "HTMLView",
            "description": "",
            "description_tooltip": null,
            "layout": "IPY_MODEL_1cee8464ed7845cd859a965d84b36f6e",
            "placeholder": "​",
            "style": "IPY_MODEL_48172645e6f64dafa76e9bc8a5b7875f",
            "value": "100%"
          }
        },
        "1cee8464ed7845cd859a965d84b36f6e": {
          "model_module": "@jupyter-widgets/base",
          "model_module_version": "1.2.0",
          "model_name": "LayoutModel",
          "state": {
            "_model_module": "@jupyter-widgets/base",
            "_model_module_version": "1.2.0",
            "_model_name": "LayoutModel",
            "_view_count": null,
            "_view_module": "@jupyter-widgets/base",
            "_view_module_version": "1.2.0",
            "_view_name": "LayoutView",
            "align_content": null,
            "align_items": null,
            "align_self": null,
            "border": null,
            "bottom": null,
            "display": null,
            "flex": null,
            "flex_flow": null,
            "grid_area": null,
            "grid_auto_columns": null,
            "grid_auto_flow": null,
            "grid_auto_rows": null,
            "grid_column": null,
            "grid_gap": null,
            "grid_row": null,
            "grid_template_areas": null,
            "grid_template_columns": null,
            "grid_template_rows": null,
            "height": null,
            "justify_content": null,
            "justify_items": null,
            "left": null,
            "margin": null,
            "max_height": null,
            "max_width": null,
            "min_height": null,
            "min_width": null,
            "object_fit": null,
            "object_position": null,
            "order": null,
            "overflow": null,
            "overflow_x": null,
            "overflow_y": null,
            "padding": null,
            "right": null,
            "top": null,
            "visibility": null,
            "width": null
          }
        },
        "48172645e6f64dafa76e9bc8a5b7875f": {
          "model_module": "@jupyter-widgets/controls",
          "model_module_version": "1.5.0",
          "model_name": "DescriptionStyleModel",
          "state": {
            "_model_module": "@jupyter-widgets/controls",
            "_model_module_version": "1.5.0",
            "_model_name": "DescriptionStyleModel",
            "_view_count": null,
            "_view_module": "@jupyter-widgets/base",
            "_view_module_version": "1.2.0",
            "_view_name": "StyleView",
            "description_width": ""
          }
        },
        "4943aae13bfd47ac9e354642cbd6d287": {
          "model_module": "@jupyter-widgets/controls",
          "model_module_version": "1.5.0",
          "model_name": "ProgressStyleModel",
          "state": {
            "_model_module": "@jupyter-widgets/controls",
            "_model_module_version": "1.5.0",
            "_model_name": "ProgressStyleModel",
            "_view_count": null,
            "_view_module": "@jupyter-widgets/base",
            "_view_module_version": "1.2.0",
            "_view_name": "StyleView",
            "bar_color": null,
            "description_width": ""
          }
        },
        "592527baf34b4d85bc4c027edc1afa4e": {
          "model_module": "@jupyter-widgets/base",
          "model_module_version": "1.2.0",
          "model_name": "LayoutModel",
          "state": {
            "_model_module": "@jupyter-widgets/base",
            "_model_module_version": "1.2.0",
            "_model_name": "LayoutModel",
            "_view_count": null,
            "_view_module": "@jupyter-widgets/base",
            "_view_module_version": "1.2.0",
            "_view_name": "LayoutView",
            "align_content": null,
            "align_items": null,
            "align_self": null,
            "border": null,
            "bottom": null,
            "display": null,
            "flex": null,
            "flex_flow": null,
            "grid_area": null,
            "grid_auto_columns": null,
            "grid_auto_flow": null,
            "grid_auto_rows": null,
            "grid_column": null,
            "grid_gap": null,
            "grid_row": null,
            "grid_template_areas": null,
            "grid_template_columns": null,
            "grid_template_rows": null,
            "height": null,
            "justify_content": null,
            "justify_items": null,
            "left": null,
            "margin": null,
            "max_height": null,
            "max_width": null,
            "min_height": null,
            "min_width": null,
            "object_fit": null,
            "object_position": null,
            "order": null,
            "overflow": null,
            "overflow_x": null,
            "overflow_y": null,
            "padding": null,
            "right": null,
            "top": null,
            "visibility": null,
            "width": null
          }
        },
        "8ac87b479903410980943192600bd91c": {
          "model_module": "@jupyter-widgets/controls",
          "model_module_version": "1.5.0",
          "model_name": "FloatProgressModel",
          "state": {
            "_dom_classes": [],
            "_model_module": "@jupyter-widgets/controls",
            "_model_module_version": "1.5.0",
            "_model_name": "FloatProgressModel",
            "_view_count": null,
            "_view_module": "@jupyter-widgets/controls",
            "_view_module_version": "1.5.0",
            "_view_name": "ProgressView",
            "bar_style": "success",
            "description": "",
            "description_tooltip": null,
            "layout": "IPY_MODEL_ff794dc658f14f2cb358fc068fd1e531",
            "max": 50,
            "min": 0,
            "orientation": "horizontal",
            "style": "IPY_MODEL_4943aae13bfd47ac9e354642cbd6d287",
            "value": 50
          }
        },
        "8fd2494aff48469da725bc0b9534315d": {
          "model_module": "@jupyter-widgets/base",
          "model_module_version": "1.2.0",
          "model_name": "LayoutModel",
          "state": {
            "_model_module": "@jupyter-widgets/base",
            "_model_module_version": "1.2.0",
            "_model_name": "LayoutModel",
            "_view_count": null,
            "_view_module": "@jupyter-widgets/base",
            "_view_module_version": "1.2.0",
            "_view_name": "LayoutView",
            "align_content": null,
            "align_items": null,
            "align_self": null,
            "border": null,
            "bottom": null,
            "display": null,
            "flex": null,
            "flex_flow": null,
            "grid_area": null,
            "grid_auto_columns": null,
            "grid_auto_flow": null,
            "grid_auto_rows": null,
            "grid_column": null,
            "grid_gap": null,
            "grid_row": null,
            "grid_template_areas": null,
            "grid_template_columns": null,
            "grid_template_rows": null,
            "height": null,
            "justify_content": null,
            "justify_items": null,
            "left": null,
            "margin": null,
            "max_height": null,
            "max_width": null,
            "min_height": null,
            "min_width": null,
            "object_fit": null,
            "object_position": null,
            "order": null,
            "overflow": null,
            "overflow_x": null,
            "overflow_y": null,
            "padding": null,
            "right": null,
            "top": null,
            "visibility": null,
            "width": null
          }
        },
        "bf2f9f8a3d8543e382e015f6674ff2c5": {
          "model_module": "@jupyter-widgets/controls",
          "model_module_version": "1.5.0",
          "model_name": "DescriptionStyleModel",
          "state": {
            "_model_module": "@jupyter-widgets/controls",
            "_model_module_version": "1.5.0",
            "_model_name": "DescriptionStyleModel",
            "_view_count": null,
            "_view_module": "@jupyter-widgets/base",
            "_view_module_version": "1.2.0",
            "_view_name": "StyleView",
            "description_width": ""
          }
        },
        "fede71b443314c9793c8ba25d58923f8": {
          "model_module": "@jupyter-widgets/controls",
          "model_module_version": "1.5.0",
          "model_name": "HTMLModel",
          "state": {
            "_dom_classes": [],
            "_model_module": "@jupyter-widgets/controls",
            "_model_module_version": "1.5.0",
            "_model_name": "HTMLModel",
            "_view_count": null,
            "_view_module": "@jupyter-widgets/controls",
            "_view_module_version": "1.5.0",
            "_view_name": "HTMLView",
            "description": "",
            "description_tooltip": null,
            "layout": "IPY_MODEL_8fd2494aff48469da725bc0b9534315d",
            "placeholder": "​",
            "style": "IPY_MODEL_bf2f9f8a3d8543e382e015f6674ff2c5",
            "value": " 50/50 [03:35&lt;00:00,  3.89s/it]"
          }
        },
        "ff794dc658f14f2cb358fc068fd1e531": {
          "model_module": "@jupyter-widgets/base",
          "model_module_version": "1.2.0",
          "model_name": "LayoutModel",
          "state": {
            "_model_module": "@jupyter-widgets/base",
            "_model_module_version": "1.2.0",
            "_model_name": "LayoutModel",
            "_view_count": null,
            "_view_module": "@jupyter-widgets/base",
            "_view_module_version": "1.2.0",
            "_view_name": "LayoutView",
            "align_content": null,
            "align_items": null,
            "align_self": null,
            "border": null,
            "bottom": null,
            "display": null,
            "flex": null,
            "flex_flow": null,
            "grid_area": null,
            "grid_auto_columns": null,
            "grid_auto_flow": null,
            "grid_auto_rows": null,
            "grid_column": null,
            "grid_gap": null,
            "grid_row": null,
            "grid_template_areas": null,
            "grid_template_columns": null,
            "grid_template_rows": null,
            "height": null,
            "justify_content": null,
            "justify_items": null,
            "left": null,
            "margin": null,
            "max_height": null,
            "max_width": null,
            "min_height": null,
            "min_width": null,
            "object_fit": null,
            "object_position": null,
            "order": null,
            "overflow": null,
            "overflow_x": null,
            "overflow_y": null,
            "padding": null,
            "right": null,
            "top": null,
            "visibility": null,
            "width": null
          }
        }
      }
    }
  },
  "nbformat": 4,
  "nbformat_minor": 0
}
